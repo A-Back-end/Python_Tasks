{
  "nbformat": 4,
  "nbformat_minor": 0,
  "metadata": {
    "colab": {
      "private_outputs": true,
      "provenance": [],
      "toc_visible": true,
      "authorship_tag": "ABX9TyMqJfNYSHHhCzpOwwiYU+Yv",
      "include_colab_link": true
    },
    "kernelspec": {
      "name": "python3",
      "display_name": "Python 3"
    },
    "language_info": {
      "name": "python"
    }
  },
  "cells": [
    {
      "cell_type": "markdown",
      "metadata": {
        "id": "view-in-github",
        "colab_type": "text"
      },
      "source": [
        "<a href=\"https://colab.research.google.com/github/A-Back-end/Python_Tasks/blob/main/HomeWork2.ipynb\" target=\"_parent\"><img src=\"https://colab.research.google.com/assets/colab-badge.svg\" alt=\"Open In Colab\"/></a>"
      ]
    },
    {
      "cell_type": "code",
      "source": [
        "import numpy as np\n",
        "import pandas as pd"
      ],
      "metadata": {
        "id": "4OiU_wZ1gvCr"
      },
      "execution_count": null,
      "outputs": []
    },
    {
      "cell_type": "markdown",
      "source": [
        "# Задача 1: Пакетное перемножение матриц (Batch Matrix Multiplication)\n"
      ],
      "metadata": {
        "id": "ph42c6dQBOla"
      }
    },
    {
      "cell_type": "markdown",
      "source": [
        "**Условие:** У вас есть два массива, A и B . A имеет форму (b, n, m) , а B — (b, m, p) , где b — это размер пакета (batch size), а n, m, p — размеры\n",
        "матриц. Вам нужно выполнить перемножение матриц для каждой пары матриц в пакете.\n"
      ],
      "metadata": {
        "id": "NrMkRzPaBBo4"
      }
    },
    {
      "cell_type": "markdown",
      "source": [
        "Входные данные:"
      ],
      "metadata": {
        "id": "phjtO405gTfQ"
      }
    },
    {
      "cell_type": "markdown",
      "source": [
        "A (форма (2, 2, 3) ):"
      ],
      "metadata": {
        "id": "yV1bzq4hgJuy"
      }
    },
    {
      "cell_type": "code",
      "source": [
        "A = np.array([[1, 2, 3],\n",
        "              [4, 5, 6]], dtype=np.int64)\n",
        "\n",
        "A1 = np.array([[7, 8, 9],\n",
        "              [10, 11, 12]], dtype=np.int64)"
      ],
      "metadata": {
        "id": "veVR5J9RBau8"
      },
      "execution_count": null,
      "outputs": []
    },
    {
      "cell_type": "markdown",
      "source": [
        "B (форма (2, 3, 2) ):"
      ],
      "metadata": {
        "id": "pvIzkODTgF-v"
      }
    },
    {
      "cell_type": "code",
      "source": [
        "B = np.array([[1, 2],\n",
        "              [3, 4],\n",
        "              [5, 6],])\n",
        "\n",
        "B1 = np.array([[7, 8],\n",
        "                [9, 10],\n",
        "                [11, 12],])"
      ],
      "metadata": {
        "id": "X_kp4idfgKi9"
      },
      "execution_count": null,
      "outputs": []
    },
    {
      "cell_type": "markdown",
      "source": [
        "Ожидаемый результат (форма (2, 2, 2) ):"
      ],
      "metadata": {
        "id": "n-98v6CTgo0B"
      }
    },
    {
      "cell_type": "code",
      "source": [
        "[[[ 22, 28],\n",
        "[ 49, 64]],\n",
        "\n",
        "[[220, 244],\n",
        "[301, 334]]]\n"
      ],
      "metadata": {
        "id": "amEYPf6egsgV"
      },
      "execution_count": null,
      "outputs": []
    },
    {
      "cell_type": "markdown",
      "source": [
        "Подсказка: Используйте общую ось b в обозначениях einsum ."
      ],
      "metadata": {
        "id": "PTei8jZHgtn1"
      }
    },
    {
      "cell_type": "code",
      "source": [
        "result = np.einsum('ij,jk->ik', A, B)\n",
        "print(result)\n",
        "\n",
        "result1 = np.einsum('ij,jk->ik', A1, B1)\n",
        "print('\\n', result1)"
      ],
      "metadata": {
        "id": "gxcWRfD-gu16"
      },
      "execution_count": null,
      "outputs": []
    },
    {
      "cell_type": "markdown",
      "source": [
        "# Задача 2: Вычисление следа для пакета матриц"
      ],
      "metadata": {
        "id": "D7Aqo5IVmozj"
      }
    },
    {
      "cell_type": "markdown",
      "source": [
        "Условие: Дан тензор A с формой (b, n, n) , представляющий собой пакет квадратных матриц. С помощью одной операции einsum получите след\n",
        "(сумму диагональных элементов) для каждой матрицы в пакете."
      ],
      "metadata": {
        "id": "AWfvZMZnrHWM"
      }
    },
    {
      "cell_type": "markdown",
      "source": [
        "A (форма (3, 3, 3) ):"
      ],
      "metadata": {
        "id": "-0V3e8obrHNH"
      }
    },
    {
      "cell_type": "code",
      "source": [
        "A = np.array([[1, 2, 3],\n",
        "              [4, 5, 6],\n",
        "              [7, 8, 9]])\n",
        "\n",
        "B = np.array([[10, 11, 12],\n",
        "              [13, 14, 15],\n",
        "              [16, 17, 18]])\n",
        "\n",
        "C = np.array([[19, 20, 21],\n",
        "              [22, 23, 24],\n",
        "              [25, 26, 27]])"
      ],
      "metadata": {
        "id": "N6KbirdGrG-i"
      },
      "execution_count": null,
      "outputs": []
    },
    {
      "cell_type": "markdown",
      "source": [
        "Ожидаемый результат (форма (3,) ):"
      ],
      "metadata": {
        "id": "ra3qn2rFrOQX"
      }
    },
    {
      "cell_type": "code",
      "source": [
        "[15, 42, 69]"
      ],
      "metadata": {
        "id": "-GrcIdU-rNkI"
      },
      "execution_count": null,
      "outputs": []
    },
    {
      "cell_type": "markdown",
      "source": [
        "(т.е. 1+5+9 , 10+14+18 , 19+23+27 )\n",
        "Подсказка: Для диагональных элементов индексы строк и столбцов должны совпадать."
      ],
      "metadata": {
        "id": "4d8wEzqmrSTn"
      }
    },
    {
      "cell_type": "code",
      "source": [
        "def matrix(A):\n",
        "  count = 0\n",
        "  for i in range(A.shape[0]):\n",
        "    matrix = A[i, i]\n",
        "    count += matrix\n",
        "  return count\n",
        "\n",
        "\n",
        "result = np.array(([matrix(A), matrix(B), matrix(C)]), dtype=np.int64)\n",
        "print(result)"
      ],
      "metadata": {
        "id": "EFCctUC6rGl7"
      },
      "execution_count": null,
      "outputs": []
    },
    {
      "cell_type": "markdown",
      "source": [
        "# Задача 3: Внешнее произведение векторов в пакете (Batch Outer Product)"
      ],
      "metadata": {
        "id": "uKjKG0bLmjAi"
      }
    },
    {
      "cell_type": "markdown",
      "source": [
        "Условие: Даны два массива векторов v1 и v2 , оба с формой (b, n) . Для каждой пары векторов из пакета вычислите их внешнее произведение."
      ],
      "metadata": {
        "id": "BiP2HHl1mt_w"
      }
    },
    {
      "cell_type": "markdown",
      "source": [
        "v1 (форма (2, 3) ):"
      ],
      "metadata": {
        "id": "RDkET_fJmxhE"
      }
    },
    {
      "cell_type": "code",
      "source": [
        "v1 = np.array([[1, 2, 3],\n",
        "              [4, 5, 6]])"
      ],
      "metadata": {
        "id": "g7TFFE8dmsCY"
      },
      "execution_count": null,
      "outputs": []
    },
    {
      "cell_type": "markdown",
      "source": [
        "v2 (форма (2, 3) ):"
      ],
      "metadata": {
        "id": "9r7GRx0JmzO3"
      }
    },
    {
      "cell_type": "code",
      "source": [
        "v2 = np.array([[7, 8, 9],\n",
        "              [1, 2, 3]])"
      ],
      "metadata": {
        "id": "I9OGXPhUmr0h"
      },
      "execution_count": null,
      "outputs": []
    },
    {
      "cell_type": "markdown",
      "source": [
        "Ожидаемый результат (форма (2, 3, 3) ):"
      ],
      "metadata": {
        "id": "jSaS-P_lm-RU"
      }
    },
    {
      "cell_type": "code",
      "source": [
        "[[[ 7, 8, 9],\n",
        "[14, 16, 18],\n",
        "[21, 24, 27]],\n",
        "\n",
        "[[ 4, 8, 12],\n",
        "[ 5, 10, 15],\n",
        "[ 6, 12, 18]]]\n"
      ],
      "metadata": {
        "id": "aHp0Mfr2m4Lu"
      },
      "execution_count": null,
      "outputs": []
    },
    {
      "cell_type": "markdown",
      "source": [
        "Подсказка: Результат для каждой пары векторов u и v должен быть матрицей M , где Mij = ui * vj ."
      ],
      "metadata": {
        "id": "nvvbznWHm6xZ"
      }
    },
    {
      "cell_type": "code",
      "source": [
        "total = np.outer(v1, v2)\n",
        "print(total[:3, :3], '\\n\\n', total[3:, 3:])"
      ],
      "metadata": {
        "id": "R_3OnJVwm6FP"
      },
      "execution_count": null,
      "outputs": []
    },
    {
      "cell_type": "markdown",
      "source": [
        "# Задача 4: Умножение матрицы на вектор (с транслированием)"
      ],
      "metadata": {
        "id": "c9yn0BUL0vic"
      }
    },
    {
      "cell_type": "markdown",
      "source": [
        "Условие: Дана матрица M формы (n, m) и вектор v формы (m,) . Умножьте каждую строку матрицы M на вектор v поэлементно."
      ],
      "metadata": {
        "id": "dx5m_aSj0zFn"
      }
    },
    {
      "cell_type": "markdown",
      "source": [
        "M (форма (3, 4) ):"
      ],
      "metadata": {
        "id": "gPxcbF6_1B-Z"
      }
    },
    {
      "cell_type": "code",
      "source": [
        "A = np.array([[1, 2, 3, 4],\n",
        "              [5, 6, 7, 8],\n",
        "              [9, 10, 11, 12]])"
      ],
      "metadata": {
        "id": "l266-bot0y2C"
      },
      "execution_count": null,
      "outputs": []
    },
    {
      "cell_type": "markdown",
      "source": [
        "v (форма (4,) ):"
      ],
      "metadata": {
        "id": "ZWlNbEXQ1EgQ"
      }
    },
    {
      "cell_type": "code",
      "source": [
        "B = np.array([10, 20, 30, 40])"
      ],
      "metadata": {
        "id": "gwjV74mW0ytn"
      },
      "execution_count": null,
      "outputs": []
    },
    {
      "cell_type": "markdown",
      "source": [
        "Ожидаемый результат (форма (3, 4) ):"
      ],
      "metadata": {
        "id": "ykcnQPve1Hbt"
      }
    },
    {
      "cell_type": "code",
      "source": [
        "[[ 10, 40, 90, 160],\n",
        "[ 50, 120, 210, 320],\n",
        "[ 90, 200, 330, 480]]"
      ],
      "metadata": {
        "id": "31sezb931HJ-"
      },
      "execution_count": null,
      "outputs": []
    },
    {
      "cell_type": "markdown",
      "source": [
        "Подсказка: Эту операцию можно представить как поэлементное умножение с неявным расширением (broadcasting) вектора. einsum делает это явно."
      ],
      "metadata": {
        "id": "hdUGX0QW1L4-"
      }
    },
    {
      "cell_type": "code",
      "source": [
        "A * B"
      ],
      "metadata": {
        "id": "0_pflQUa3D-G"
      },
      "execution_count": null,
      "outputs": []
    },
    {
      "cell_type": "code",
      "source": [
        "result = np.einsum('ij,j->ij', A, B)\n",
        "print(result)"
      ],
      "metadata": {
        "id": "u4XczU723GVy"
      },
      "execution_count": null,
      "outputs": []
    },
    {
      "cell_type": "markdown",
      "source": [
        "# Задача 5: Анализ рынка недвижимости Казахстана с использованием Pandas и Matplotlib"
      ],
      "metadata": {
        "id": "aclxiLhG33Tc"
      }
    },
    {
      "cell_type": "markdown",
      "source": [
        "На этом этапе мы сосредоточимся на самом крупном мегаполисе страны. Ваша задача — проанализировать, как цена на квартиры зависит от\n",
        "количества комнат и района города."
      ],
      "metadata": {
        "id": "ygiEIF1A39AM"
      }
    },
    {
      "cell_type": "markdown",
      "source": [
        "Шаги выполнения:"
      ],
      "metadata": {
        "id": "3O3XR4_5389v"
      }
    },
    {
      "cell_type": "markdown",
      "source": [
        "**1. Загрузка и подготовка данных:**\n",
        "Загрузите файл krisha_100.csv в pandas DataFrame.\n",
        "Отфильтруйте данные, оставив только объявления по городу Алматы.\n",
        "\n",
        "**2. Анализ средней цены по районам (Pivot Table):**\n",
        "Создайте сводную таблицу ( pivot_table ), которая покажет среднюю цену на квартиры.\n",
        "\n",
        "*  В качестве строк ( index ) используйте районы Алматы.\n",
        "*  В качестве столбцов ( columns ) — количество комнат.\n",
        "*  В качестве значений ( values ) — цену.\n",
        "\n",
        "**3. Визуализация распределения цен:**\n",
        "*  Постройте график boxplot (ящик с усами). По оси X отложите количество комнат, а по оси Y — цену. Этот график поможет увидеть медианную\n",
        "цену, разброс и выбросы.\n",
        "* Рядом постройте график violinplot . Он также показывает распределение цен (по оси Y) в зависимости от количества комнат (по оси X), но\n",
        "более детально, отражая плотность распределения."
      ],
      "metadata": {
        "id": "U81MTaCN38x7"
      }
    },
    {
      "cell_type": "code",
      "source": [],
      "metadata": {
        "id": "RRw07QBW38iA"
      },
      "execution_count": null,
      "outputs": []
    },
    {
      "cell_type": "code",
      "source": [],
      "metadata": {
        "id": "IT7RF-E238f6"
      },
      "execution_count": null,
      "outputs": []
    },
    {
      "cell_type": "code",
      "source": [],
      "metadata": {
        "id": "irWMpSKP38dG"
      },
      "execution_count": null,
      "outputs": []
    },
    {
      "cell_type": "markdown",
      "source": [
        "**Часть 2: Сравнительный анализ Западных и Северных регионов**"
      ],
      "metadata": {
        "id": "fv5Iw7qW5NKw"
      }
    },
    {
      "cell_type": "markdown",
      "source": [
        "Теперь мы сравним два крупных региона, чтобы понять разницу в ценах и помочь потенциальному покупателю с бюджетом в 20 млн тенге сделать\n",
        "выбор.\n",
        "\n",
        "**Регионы для анализа:**\n",
        "* Западный: Уральск, Актау, Атырау, Актобе.\n",
        "* Северный: Павлодар, Костанай, Петропавловск.\n",
        "\n",
        "**Шаги выполнения:**\n",
        "\n",
        "* **1. Подготовка данных по регионам:**\n",
        "Из исходного DataFrame создайте два новых: один для городов Западного региона, второй — для Северного.\n",
        "* **2. Сравнение цен на 2-комнатные квартиры (визуализация):**\n",
        "\n",
        "> Add blockquote\n",
        "\n",
        "\n",
        "Для каждого региона отдельно рассчитайте среднюю цену на 2-комнатные квартиры в каждом городе.\n",
        "Постройте столбчатую диаграмму ( bar chart ) для каждого региона:\n",
        "* По оси Y —города.\n",
        "* По оси X — средняя цена."
      ],
      "metadata": {
        "id": "6WCCyFgI4ksi"
      }
    },
    {
      "cell_type": "markdown",
      "source": [
        "**Вопрос для анализа 1:**\n",
        "\n",
        "В каком городе каждого региона цены на \"двушки\" выше, а в каком — ниже? Как вы думаете, с чем это может быть связано (например, экономика города,\n",
        "промышленность, уровень зарплат)?\n",
        "\n",
        "**3. Детальный анализ по городам и комнатам (Pivot Tables):**\n",
        "\n",
        "**Для каждого региона отдельно создайте сводную таблицу ( pivot_table ):**\n",
        "* Строки ( index ): города.\n",
        "* Столбцы ( columns ): количество комнат.\n",
        "* Значения ( values ): средняя цена.\n",
        "\n",
        "**Вопрос для анализа 2:**\n",
        "\n",
        "У вас есть бюджет 20,000,000 тг. Изучив обе сводные таблицы, в каком городе (из двух регионов) вы бы посоветовали купить квартиру? Обоснуйте свой\n",
        "ответ, указав, квартиру с каким количеством комнат можно приобрести на эту сумму в разных городах. Где предложение будет самым выгодным?"
      ],
      "metadata": {
        "id": "iWi_SNb05V_o"
      }
    }
  ]
}