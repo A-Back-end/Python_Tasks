{
  "nbformat": 4,
  "nbformat_minor": 0,
  "metadata": {
    "colab": {
      "provenance": [],
      "collapsed_sections": [
        "TKZ5UUhf9bzk",
        "QKIUI-N_RBvM",
        "OrUK8Z3UQ8fe"
      ],
      "include_colab_link": true
    },
    "kernelspec": {
      "name": "python3",
      "display_name": "Python 3"
    },
    "language_info": {
      "name": "python"
    }
  },
  "cells": [
    {
      "cell_type": "markdown",
      "metadata": {
        "id": "view-in-github",
        "colab_type": "text"
      },
      "source": [
        "<a href=\"https://colab.research.google.com/github/A-Back-end/Python_Tasks/blob/main/OOP.ipynb\" target=\"_parent\"><img src=\"https://colab.research.google.com/assets/colab-badge.svg\" alt=\"Open In Colab\"/></a>"
      ]
    },
    {
      "cell_type": "code",
      "source": [
        "import random\n",
        "import math"
      ],
      "metadata": {
        "id": "thTYHp-wdgbr"
      },
      "execution_count": null,
      "outputs": []
    },
    {
      "cell_type": "code",
      "source": [
        "user_input = input('Enter your choice (rock, paper, scissors): ')\n",
        "\n",
        "computer_choice = random.choice(['rock', 'paper', 'scissors'])\n",
        "# computer_choice = random.randint(1, 3)\n",
        "\n",
        "# if computer_choice == 1:\n",
        "#   computer_choice = 'rock'\n",
        "# elif computer_choice == 2:\n",
        "#   computer_choice = 'paper'\n",
        "# else:\n",
        "#   computer_choice = 'scissors'\n",
        "\n",
        "print(f'Computer chose {computer_choice}')\n",
        "\n",
        "if user_input == computer_choice:\n",
        "  print('Draw')\n",
        "elif (user_input == 'rock' and computer_choice == 'paper') or (user_input == 'paper' and computer_choice == 'scissors') or (user_input == 'scissors' and computer_choice == 'rock'):\n",
        "  print('Computer wins')\n",
        "else:\n",
        "  print('You win')"
      ],
      "metadata": {
        "id": "8y2MU4MwdgXZ",
        "colab": {
          "base_uri": "https://localhost:8080/"
        },
        "outputId": "1f79c864-53cc-4b9d-e0d2-0b20a3d03f62"
      },
      "execution_count": null,
      "outputs": [
        {
          "output_type": "stream",
          "name": "stdout",
          "text": [
            "Enter your choice (rock, paper, scissors): lk\n",
            "Computer chose scissors\n",
            "You win\n"
          ]
        }
      ]
    },
    {
      "cell_type": "markdown",
      "source": [
        "#Задание 1: Объектно-Ориентированное Программирование (ООП)\n",
        "\n",
        "## Тема: Простая система управления библиотекой\n",
        "\n",
        "### Что нужно сделать\n",
        "\n",
        "1. Создать класс `Book` с атрибутами:\n",
        "\n",
        "   * `title` — название книги\n",
        "   * `author` — автор\n",
        "   * `year` — год издания\n",
        "\n",
        "   Добавить метод `__str__`, который возвращает красиво отформатированную строку с информацией о книге.\n",
        "\n",
        "---\n",
        "\n",
        "2. Создать класс `Library`, который:\n",
        "\n",
        "   * хранит список книг;\n",
        "   * имеет методы:\n",
        "\n",
        "     * `add_book(book)` → добавляет новый объект книги;\n",
        "     * `list_books()` → выводит список всех книг в библиотеке;\n",
        "     * `find_book(title)` → ищет книгу по названию;\n",
        "     * `random_book()` → выбирает случайную книгу и выводит её как «Книга дня»;\n",
        "     * `save_to_file(filename)` → записывает все книги в текстовый файл для бэкапа.\n",
        "\n",
        "---\n",
        "\n",
        "3. **Дополнительное задание:**\n",
        "   Создать класс `EBook`, который наследуется от `Book` и имеет дополнительный атрибут `file_size_mb`.\n",
        "   Переопределить метод `__str__`, чтобы он также показывал размер файла.\n",
        "\n",
        "---\n",
        "\n",
        "\n"
      ],
      "metadata": {
        "id": "TKZ5UUhf9bzk"
      }
    },
    {
      "cell_type": "code",
      "source": [
        "def random_function(x, y, z):\n",
        "  pass"
      ],
      "metadata": {
        "id": "gPEG862pmcmJ"
      },
      "execution_count": null,
      "outputs": []
    },
    {
      "cell_type": "code",
      "source": [
        "class Book:\n",
        "  def __init__(self, title, author, year):\n",
        "    self.title = title\n",
        "    self.author = author\n",
        "    self.year = year\n",
        "\n",
        "  def __str__(self):\n",
        "    return f'{self.title} by {self.author} published in ({self.year})'\n"
      ],
      "metadata": {
        "id": "zRyfKqbEmCTC"
      },
      "execution_count": null,
      "outputs": []
    },
    {
      "cell_type": "code",
      "source": [
        "book1 = Book('Harry Potter', 'J.K. Rowling', 1997)"
      ],
      "metadata": {
        "id": "b4QQtTh-mCKG"
      },
      "execution_count": null,
      "outputs": []
    },
    {
      "cell_type": "code",
      "source": [
        "print(book1.title)\n",
        "print(book1.author)\n",
        "print(book1.year)"
      ],
      "metadata": {
        "id": "hvzTzCXRoBxJ",
        "colab": {
          "base_uri": "https://localhost:8080/"
        },
        "outputId": "dabe4a2f-1d15-49d1-a9f4-ff5ac18b897a"
      },
      "execution_count": null,
      "outputs": [
        {
          "output_type": "stream",
          "name": "stdout",
          "text": [
            "Harry Potter\n",
            "J.K. Rowling\n",
            "1997\n"
          ]
        }
      ]
    },
    {
      "cell_type": "code",
      "source": [
        "print(book1)"
      ],
      "metadata": {
        "id": "2D01U6-yozw3",
        "colab": {
          "base_uri": "https://localhost:8080/"
        },
        "outputId": "2bcc8bc0-89a7-4c92-bf42-b38c6d735fd1"
      },
      "execution_count": null,
      "outputs": [
        {
          "output_type": "stream",
          "name": "stdout",
          "text": [
            "Harry Potter by J.K. Rowling published in (1997)\n"
          ]
        }
      ]
    },
    {
      "cell_type": "code",
      "source": [
        "class Library:\n",
        "  def __init__(self, name):\n",
        "    self.name = name\n",
        "    self.books = []\n",
        "\n",
        "  def __str__(self):\n",
        "    return f'{self.name} has {len(self.books)} books'\n",
        "\n",
        "  def add_book(self, book):\n",
        "    self.books.append(book)\n",
        "\n",
        "  def list_books(self):\n",
        "    for book in self.books:\n",
        "      print(f\"{book.title} by {book.author} published in {book.year}\")\n",
        "\n",
        "  def find_book(self, book):\n",
        "    for book_in in self.books:\n",
        "      if book_in.title == book:\n",
        "        print(book)\n",
        "        return True\n",
        "      # else:\n",
        "      #   return False\n",
        "    return False\n",
        "\n",
        "  def random_book(self):\n",
        "    day_book = random.choice(self.books)\n",
        "    print(f\"Today's book is {day_book.title} by {day_book.author}\")\n",
        "\n",
        "  def save_to_file(self, filename):\n",
        "    with open(filename, 'w', encoding='utf-8') as f:\n",
        "      for book in self.books:\n",
        "        f.write(f\"{book.title} by {book.author} published in {book.year}\\n\")"
      ],
      "metadata": {
        "id": "G80apTm3sSc2"
      },
      "execution_count": null,
      "outputs": []
    },
    {
      "cell_type": "code",
      "source": [
        "book2 = Book('The Lord of the Rings', 'J.R.R. Tolkien', 1954)\n",
        "book3 = Book('The Hobbit', 'J.R.R. Tolkien', 1937)\n",
        "book4 = Book('The Silmarillion', 'J.R.R. Tolkien', 1977)"
      ],
      "metadata": {
        "id": "Nw1plIVhvsjF"
      },
      "execution_count": null,
      "outputs": []
    },
    {
      "cell_type": "code",
      "source": [
        "lib = Library('Library named after Akylbek')\n",
        "lib.add_book(book1)\n",
        "lib.add_book(book2)\n",
        "lib.add_book(book3)\n",
        "lib.add_book(book4)\n",
        "\n",
        "lib.list_books()"
      ],
      "metadata": {
        "id": "8yoYMesEmCGn",
        "colab": {
          "base_uri": "https://localhost:8080/"
        },
        "outputId": "cf88c29e-4063-450d-cf81-bc56d742b6de"
      },
      "execution_count": null,
      "outputs": [
        {
          "output_type": "stream",
          "name": "stdout",
          "text": [
            "Harry Potter by J.K. Rowling published in 1997\n",
            "The Lord of the Rings by J.R.R. Tolkien published in 1954\n",
            "The Hobbit by J.R.R. Tolkien published in 1937\n",
            "The Silmarillion by J.R.R. Tolkien published in 1977\n"
          ]
        }
      ]
    },
    {
      "cell_type": "code",
      "source": [
        "lib.find_book('The Silmarillion')"
      ],
      "metadata": {
        "id": "tVOoFxeFw7Je",
        "colab": {
          "base_uri": "https://localhost:8080/"
        },
        "outputId": "bbf29626-9c72-4e65-cee8-d02c6e5828e7"
      },
      "execution_count": null,
      "outputs": [
        {
          "output_type": "stream",
          "name": "stdout",
          "text": [
            "The Silmarillion\n"
          ]
        },
        {
          "output_type": "execute_result",
          "data": {
            "text/plain": [
              "True"
            ]
          },
          "metadata": {},
          "execution_count": 300
        }
      ]
    },
    {
      "cell_type": "code",
      "source": [
        "lib.random_book()"
      ],
      "metadata": {
        "id": "eRnZVV2WyvvV",
        "colab": {
          "base_uri": "https://localhost:8080/"
        },
        "outputId": "b7b5ceac-caa9-4adf-eb7c-67227c2de33d"
      },
      "execution_count": null,
      "outputs": [
        {
          "output_type": "stream",
          "name": "stdout",
          "text": [
            "Today's book is Harry Potter by J.K. Rowling\n"
          ]
        }
      ]
    },
    {
      "cell_type": "code",
      "source": [
        "lib.save_to_file('library_backup.txt')"
      ],
      "metadata": {
        "id": "ugRm7BTR0ftl"
      },
      "execution_count": null,
      "outputs": []
    },
    {
      "cell_type": "code",
      "source": [
        "with open('library_backup.txt', 'r', encoding='utf-8') as f:\n",
        "  for line in f:\n",
        "    print(line.strip())"
      ],
      "metadata": {
        "id": "snKC8RmT0yhS",
        "colab": {
          "base_uri": "https://localhost:8080/"
        },
        "outputId": "f99df603-1b8d-4887-df44-f0e2ede97aa0"
      },
      "execution_count": null,
      "outputs": [
        {
          "output_type": "stream",
          "name": "stdout",
          "text": [
            "Harry Potter by J.K. Rowling published in 1997\n",
            "The Lord of the Rings by J.R.R. Tolkien published in 1954\n",
            "The Hobbit by J.R.R. Tolkien published in 1937\n",
            "The Silmarillion by J.R.R. Tolkien published in 1977\n"
          ]
        }
      ]
    },
    {
      "cell_type": "markdown",
      "source": [
        "# Задача 2: «Зоомагазин»\n",
        "\n",
        "**Классы и методы:**\n",
        "\n",
        "* **Animal**: `name`, `species`, `price`\n",
        "\n",
        "  * `__str__` — описание животного.\n",
        "\n",
        "* **PetStore**:\n",
        "\n",
        "  * `add_animal(animal)` — добавить животное.\n",
        "  * `list_animals()` — вывести список.\n",
        "  * `most_expensive()` — найти самое дорогое животное.\n",
        "  * `average_price()` — посчитать среднюю цену всех животных.\n",
        "  * `save_to_file(filename)` — сохранить список в файл.\n",
        "\n",
        "---\n",
        "\n",
        "\n",
        "\n",
        "\n"
      ],
      "metadata": {
        "id": "NK_oeD_nQ5k4"
      }
    },
    {
      "cell_type": "code",
      "source": [
        "class Animal:\n",
        "  def __init__(self, name, species, price):\n",
        "    self.name = name\n",
        "    self.species = species\n",
        "    self.price = price\n",
        "\n",
        "  def __str__(self):\n",
        "    return f\"Animal name is {self.name}, and her/his species {self.species}, and price: {self.price}\""
      ],
      "metadata": {
        "id": "dxRAO3J8NqPS"
      },
      "execution_count": null,
      "outputs": []
    },
    {
      "cell_type": "code",
      "source": [
        "class PetStore:\n",
        "  def __init__(self, name):\n",
        "    self.name = name\n",
        "    self.animals = []\n",
        "\n",
        "  def add_animal(self, animals):\n",
        "    self.animals.append(animals)\n",
        "\n",
        "  def list_animals(self):\n",
        "    for list_animal in self.animals:\n",
        "        print({'name': list_animal.name, 'species': list_animal.species, 'price': list_animal.price})\n",
        "\n",
        "  def most_expensive(self):\n",
        "    most_ex = self.animals[0]\n",
        "    for animal in self.animals:\n",
        "      if animal.price > most_ex.price:\n",
        "        most_ex = animal\n",
        "    return f\"Most expensive animal is: {most_ex.price}\"\n",
        "\n",
        "  def average_price(self):\n",
        "    count = 0\n",
        "    for average in self.animals:\n",
        "      count += average.price/len(self.animals)\n",
        "    return count\n",
        "\n",
        "  def save_to_file_animals(self, filename):\n",
        "      with open(filename, 'w' , encoding='utf-8') as ex:\n",
        "        for animal in self.animals:\n",
        "          ex.write(f\"{animal.name}, {animal.species}, {animal.price}\\n\")"
      ],
      "metadata": {
        "id": "2LQEKfMgQyMZ"
      },
      "execution_count": null,
      "outputs": []
    },
    {
      "cell_type": "code",
      "source": [
        "petstore = PetStore('My PetStore')\n",
        "animal = Animal('Bob', 'Dog', 1000)\n",
        "animal1 = Animal('Chiko', 'Cat', 500)\n",
        "animal2 = Animal('Dany', 'Hourse', 2000)\n",
        "animal3 = Animal('Any', 'Crocodile', 3000)\n",
        "\n",
        "petstore.add_animal(animal)\n",
        "petstore.add_animal(animal1)\n",
        "petstore.add_animal(animal2)\n",
        "petstore.add_animal(animal3)\n",
        "petstore.list_animals()\n"
      ],
      "metadata": {
        "id": "i1TY_u50QyCx",
        "colab": {
          "base_uri": "https://localhost:8080/"
        },
        "outputId": "a7cd2fb6-9173-40a4-c5f4-ab6a9c1a23f2"
      },
      "execution_count": null,
      "outputs": [
        {
          "output_type": "stream",
          "name": "stdout",
          "text": [
            "{'name': 'Bob', 'species': 'Dog', 'price': 1000}\n",
            "{'name': 'Chiko', 'species': 'Cat', 'price': 500}\n",
            "{'name': 'Dany', 'species': 'Hourse', 'price': 2000}\n",
            "{'name': 'Any', 'species': 'Crocodile', 'price': 3000}\n"
          ]
        }
      ]
    },
    {
      "cell_type": "code",
      "source": [
        "petstore.most_expensive()"
      ],
      "metadata": {
        "id": "50OorySod1x4",
        "colab": {
          "base_uri": "https://localhost:8080/",
          "height": 36
        },
        "outputId": "eb8be8c5-8553-4ac1-aa18-ba0cb5a3e072"
      },
      "execution_count": null,
      "outputs": [
        {
          "output_type": "execute_result",
          "data": {
            "text/plain": [
              "'Most expensive animal is: 3000'"
            ],
            "application/vnd.google.colaboratory.intrinsic+json": {
              "type": "string"
            }
          },
          "metadata": {},
          "execution_count": 307
        }
      ]
    },
    {
      "cell_type": "code",
      "source": [
        "petstore.average_price()"
      ],
      "metadata": {
        "id": "EJkuu85bwvho",
        "colab": {
          "base_uri": "https://localhost:8080/"
        },
        "outputId": "d471f1ec-ac25-49e2-c3e9-457230efd1d6"
      },
      "execution_count": null,
      "outputs": [
        {
          "output_type": "execute_result",
          "data": {
            "text/plain": [
              "1625.0"
            ]
          },
          "metadata": {},
          "execution_count": 308
        }
      ]
    },
    {
      "cell_type": "code",
      "source": [
        "petstore.save_to_file_animals('animals.txt')"
      ],
      "metadata": {
        "id": "-L1OlCqG8LzG"
      },
      "execution_count": null,
      "outputs": []
    },
    {
      "cell_type": "markdown",
      "source": [
        "# Задача 3: «Коллекция фильмов»\n",
        "\n",
        "**Классы и методы:**\n",
        "\n",
        "* **Movie**: `title`, `director`, `rating`\n",
        "\n",
        "  * `__str__` — красивый вывод фильма.\n",
        "\n",
        "* **MovieCollection**:\n",
        "\n",
        "  * `add_movie(movie)` — добавить фильм.\n",
        "  * `list_movies()` — показать все.\n",
        "  * `top_rated()` — найти фильм с наибольшим рейтингом.\n",
        "  * `movies_by_director(name)` — вывести все фильмы конкретного режиссёра.\n",
        "  * `export_csv(filename)` — сохранить фильмы в CSV.\n",
        "\n",
        "---"
      ],
      "metadata": {
        "id": "QKIUI-N_RBvM"
      }
    },
    {
      "cell_type": "code",
      "source": [
        "class Movie:\n",
        "  def __init__(self, title, director, rating):\n",
        "    self.title = title\n",
        "    self.director = director\n",
        "    self.rating = rating\n",
        "\n",
        "  def __str__(self):\n",
        "    return f\"The {self.title} was directed by {self.director} and estimated with {self.rating} ratings\""
      ],
      "metadata": {
        "id": "eBsJAs7hp450"
      },
      "execution_count": null,
      "outputs": []
    },
    {
      "cell_type": "code",
      "source": [
        "movie = Movie('Star Wars', 'George Lucas', 10)\n",
        "\n",
        "print(movie)"
      ],
      "metadata": {
        "id": "eDROE7f0p4vh",
        "colab": {
          "base_uri": "https://localhost:8080/"
        },
        "outputId": "2d4ef64c-9e2f-48b5-9d9f-b7ee5561fb53"
      },
      "execution_count": null,
      "outputs": [
        {
          "output_type": "stream",
          "name": "stdout",
          "text": [
            "The Star Wars was directed by George Lucas and estimated with 10 ratings\n"
          ]
        }
      ]
    },
    {
      "cell_type": "code",
      "source": [
        "import csv\n",
        "\n",
        "class MovieCollection:\n",
        "  def __init__(self, name):\n",
        "    self.name = name\n",
        "    self.movies = []\n",
        "\n",
        "  def add_movie(self, movie):\n",
        "    self.movies.append(movie)\n",
        "\n",
        "  def list_movies(self):\n",
        "    for movie in self.movies:\n",
        "      print(f\"The {movie.title}, was directed by {movie.director}, and rated {movie.rating}\")\n",
        "\n",
        "  def top_rated(self):\n",
        "    max_value = self.movies[0]\n",
        "    for rate in self.movies:\n",
        "      if rate.rating > max_value.rating:\n",
        "        max_value = rate\n",
        "    return f\"Most rated movie was {max_value.title}\"\n",
        "\n",
        "  def movies_by_director(self, director):\n",
        "    for movie_title in self.movies:\n",
        "      if movie_title.director == director:\n",
        "          print(f\"{movie_title.title}\\n\")\n",
        "\n",
        "  def export_csv(self, filename):\n",
        "    with open(filename, 'w', encoding='utf-8') as file1:\n",
        "      write = csv.writer(file1)\n",
        "      for movie in self.movies:\n",
        "        write.writerow([movie.title, movie.director, movie.rating])"
      ],
      "metadata": {
        "id": "95gyM0vnAZ8H"
      },
      "execution_count": null,
      "outputs": []
    },
    {
      "cell_type": "code",
      "source": [
        "movie_collection = MovieCollection('Movie Store')\n",
        "\n",
        "movie1 = Movie('Batman', 'Matt Reaves', 11)\n",
        "movie2 = Movie('Tron', 'Max Lowe', 9)\n",
        "movie3 = Movie('Batman and Superman', 'Matt Reaves', 10)\n",
        "movie_collection.add_movie(movie)\n",
        "movie_collection.add_movie(movie1)\n",
        "movie_collection.add_movie(movie2)\n",
        "movie_collection.add_movie(movie3)"
      ],
      "metadata": {
        "id": "mPHabTGnCKTL"
      },
      "execution_count": null,
      "outputs": []
    },
    {
      "cell_type": "code",
      "source": [
        "print(movie_collection.list_movies())"
      ],
      "metadata": {
        "colab": {
          "base_uri": "https://localhost:8080/"
        },
        "id": "gAI2PLUgC3JY",
        "outputId": "54a47b4f-94b9-41f8-b1db-ee1a7dbe822e"
      },
      "execution_count": null,
      "outputs": [
        {
          "output_type": "stream",
          "name": "stdout",
          "text": [
            "The Star Wars, was directed by George Lucas, and rated 10\n",
            "The Batman, was directed by Matt Reaves, and rated 11\n",
            "The Tron, was directed by Max Lowe, and rated 9\n",
            "The Batman and Superman, was directed by Matt Reaves, and rated 10\n",
            "None\n"
          ]
        }
      ]
    },
    {
      "cell_type": "code",
      "source": [
        "movie_collection.top_rated()"
      ],
      "metadata": {
        "colab": {
          "base_uri": "https://localhost:8080/",
          "height": 36
        },
        "id": "RlRPtW-IClJZ",
        "outputId": "ded985bc-727e-4636-b112-fb27a801f9df"
      },
      "execution_count": null,
      "outputs": [
        {
          "output_type": "execute_result",
          "data": {
            "text/plain": [
              "'Most rated movie was Batman'"
            ],
            "application/vnd.google.colaboratory.intrinsic+json": {
              "type": "string"
            }
          },
          "metadata": {},
          "execution_count": 431
        }
      ]
    },
    {
      "cell_type": "code",
      "source": [
        "movie_collection.movies_by_director('George Lucas')"
      ],
      "metadata": {
        "colab": {
          "base_uri": "https://localhost:8080/"
        },
        "id": "mCq-K2-JNNPe",
        "outputId": "537e36dc-7c10-4176-8d71-eac033db3ce1"
      },
      "execution_count": null,
      "outputs": [
        {
          "output_type": "stream",
          "name": "stdout",
          "text": [
            "Star Wars\n",
            "\n"
          ]
        }
      ]
    },
    {
      "cell_type": "code",
      "source": [
        "movie_collection.export_csv('movie_format.csv')"
      ],
      "metadata": {
        "id": "pm32yYjMOFP-"
      },
      "execution_count": null,
      "outputs": []
    },
    {
      "cell_type": "markdown",
      "source": [
        "# Задача 4: «Музыкальный плейлист»\n",
        "\n",
        "**Классы и методы:**\n",
        "\n",
        "* **Song**: `title`, `artist`, `duration`\n",
        "\n",
        "  * `__str__` — красиво выводит песню.\n",
        "\n",
        "* **Playlist**:\n",
        "\n",
        "  * `add_song(song)` — добавить песню.\n",
        "  * `list_songs()` — вывести все песни.\n",
        "  * `total_duration()` — общая продолжительность плейлиста.\n",
        "  * `longest_song()` — самая длинная песня.\n",
        "  * `shuffle()` — перемешать порядок песен (использовать `random.shuffle`).\n",
        "\n",
        "---"
      ],
      "metadata": {
        "id": "OrUK8Z3UQ8fe"
      }
    },
    {
      "cell_type": "code",
      "source": [
        "class Song:\n",
        "  def __init__(self, title, artist, duration):\n",
        "    self.title = title\n",
        "    self.artist = artist\n",
        "    self.duration = duration\n",
        "\n",
        "  def __str__(self):\n",
        "    return f\"{self.title}, {self.artist}, {self.duration}\""
      ],
      "metadata": {
        "id": "naeaRZXxp5vU"
      },
      "execution_count": null,
      "outputs": []
    },
    {
      "cell_type": "code",
      "source": [
        "song = Song('On th way', 'Nirvana', 2)\n",
        "\n",
        "print(song)"
      ],
      "metadata": {
        "id": "Nnw-YPiw-ZBG",
        "colab": {
          "base_uri": "https://localhost:8080/"
        },
        "outputId": "29bbb439-fcaf-4f99-e1cf-816f6ab9c442"
      },
      "execution_count": null,
      "outputs": [
        {
          "output_type": "stream",
          "name": "stdout",
          "text": [
            "On th way, Nirvana, 2\n"
          ]
        }
      ]
    },
    {
      "cell_type": "code",
      "source": [
        "import random\n",
        "\n",
        "class Playlist:\n",
        "  def __init__(self, name) -> None:\n",
        "    self.name = name\n",
        "    self.songs = []\n",
        "\n",
        "  def add_songs(self, song):\n",
        "    self.songs.append(song)\n",
        "\n",
        "  def list_songs(self):\n",
        "    for list_songs in self.songs:\n",
        "      print(f\"{list_songs.title}, {list_songs.artist}, {list_songs.duration}\")\n",
        "\n",
        "  def total_duration(self):\n",
        "    count = 0\n",
        "    for total_duration in self.songs:\n",
        "      count += total_duration.duration\n",
        "    return count\n",
        "\n",
        "  def longest_song(self):\n",
        "    longest_song = self.songs[0]\n",
        "    for long_one in self.songs:\n",
        "      if long_one.duration > longest_song.duration:\n",
        "        longest_song = long_one\n",
        "    return f\"The longest songs is {longest_song.duration}\"\n",
        "\n",
        "  def shuffle(self):\n",
        "    random.shuffle(self.songs)\n",
        "    for songs in self.songs:\n",
        "      print(f\"'{songs.title}' '{songs.artist}' '{songs.duration}'\")"
      ],
      "metadata": {
        "id": "lJsJ6dfEXdFD"
      },
      "execution_count": null,
      "outputs": []
    },
    {
      "cell_type": "code",
      "source": [
        "playlist = Playlist('Album')\n",
        "\n",
        "song1 = Song('Starman', 'David Bowie', 3)\n",
        "song2 = Song('Eshkere', 'Lil Pump', 4)\n",
        "\n",
        "playlist.add_songs(song)\n",
        "playlist.add_songs(song1)\n",
        "playlist.add_songs(song2)\n",
        "\n",
        "playlist.list_songs()\n",
        "\n",
        "playlist.total_duration()"
      ],
      "metadata": {
        "colab": {
          "base_uri": "https://localhost:8080/"
        },
        "id": "03SSCUJ0Xc7_",
        "outputId": "cf5f6620-c961-4553-dcb9-5a71330a9e9d"
      },
      "execution_count": null,
      "outputs": [
        {
          "output_type": "stream",
          "name": "stdout",
          "text": [
            "On th way, Nirvana, 2\n",
            "Starman, David Bowie, 3\n",
            "Eshkere, Lil Pump, 4\n"
          ]
        },
        {
          "output_type": "execute_result",
          "data": {
            "text/plain": [
              "9"
            ]
          },
          "metadata": {},
          "execution_count": 615
        }
      ]
    },
    {
      "cell_type": "code",
      "source": [
        "playlist.longest_song()"
      ],
      "metadata": {
        "colab": {
          "base_uri": "https://localhost:8080/",
          "height": 36
        },
        "id": "eGh2PM8Ie4PC",
        "outputId": "8754fe01-16e3-4508-de40-7c27d9d9063a"
      },
      "execution_count": null,
      "outputs": [
        {
          "output_type": "execute_result",
          "data": {
            "text/plain": [
              "'The longest songs is 4'"
            ],
            "application/vnd.google.colaboratory.intrinsic+json": {
              "type": "string"
            }
          },
          "metadata": {},
          "execution_count": 616
        }
      ]
    },
    {
      "cell_type": "code",
      "source": [
        "playlist.shuffle()"
      ],
      "metadata": {
        "colab": {
          "base_uri": "https://localhost:8080/"
        },
        "id": "R8wX4iEUe4FG",
        "outputId": "a21ef026-7e9a-4fec-ea5b-8ed800dc3f64"
      },
      "execution_count": null,
      "outputs": [
        {
          "output_type": "stream",
          "name": "stdout",
          "text": [
            "'On th way' 'Nirvana' '2'\n",
            "'Starman' 'David Bowie' '3'\n",
            "'Eshkere' 'Lil Pump' '4'\n"
          ]
        }
      ]
    }
  ]
}