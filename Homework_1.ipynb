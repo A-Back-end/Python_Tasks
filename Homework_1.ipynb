{
  "nbformat": 4,
  "nbformat_minor": 0,
  "metadata": {
    "colab": {
      "provenance": [],
      "collapsed_sections": [
        "wzShwH21c6VF",
        "r93Xf105c76v",
        "XKK5oeK_c8ZC",
        "xrYzxIqkc8rK",
        "genhKDFNc898",
        "PKObpKCTc9ON",
        "Xzw6jhqkc9dU",
        "sP2OyKVBc9ui",
        "9oziKr9gc981",
        "8uobDYyrc-K-"
      ],
      "include_colab_link": true
    },
    "kernelspec": {
      "name": "python3",
      "display_name": "Python 3"
    },
    "language_info": {
      "name": "python"
    }
  },
  "cells": [
    {
      "cell_type": "markdown",
      "metadata": {
        "id": "view-in-github",
        "colab_type": "text"
      },
      "source": [
        "<a href=\"https://colab.research.google.com/github/A-Back-end/Python_Tasks/blob/main/Homework_1.ipynb\" target=\"_parent\"><img src=\"https://colab.research.google.com/assets/colab-badge.svg\" alt=\"Open In Colab\"/></a>"
      ]
    },
    {
      "cell_type": "markdown",
      "source": [
        "# Задача 1: Система хранения продуктов в службе доставки еды"
      ],
      "metadata": {
        "id": "wzShwH21c6VF"
      }
    },
    {
      "cell_type": "markdown",
      "source": [
        "\n",
        "\n",
        "*   Если температура ниже 0 градусов - продукт идет в \"Заморозка\"\n",
        "*   Если температура от 0 до 10 градусов включительно - в \"Холодильник\"\n",
        "*   Если температура выше 10 градусов - остается при \"Комнатная\" температуре\n"
      ],
      "metadata": {
        "id": "DnFQWsubf4FB"
      }
    },
    {
      "cell_type": "code",
      "source": [
        "temperatures = [-18, 4, 25]\n",
        "# ['Заморозка', 'Холодильник', 'Комнатная']"
      ],
      "metadata": {
        "id": "75SxRgmef31P"
      },
      "execution_count": null,
      "outputs": []
    },
    {
      "cell_type": "code",
      "source": [
        "def categorize_temperatures(temperatures):\n",
        "  result = []\n",
        "  for i in temperatures:\n",
        "    if i < 0:\n",
        "      result.append('Заморозка')\n",
        "    elif 0 <= i <= 10:\n",
        "      result.append('Холодильник')\n",
        "    elif i > 10:\n",
        "      result.append('Комнатная')\n",
        "  return result\n",
        "\n",
        "print(categorize_temperatures(temperatures))"
      ],
      "metadata": {
        "id": "WrjvP7E6f3vG",
        "colab": {
          "base_uri": "https://localhost:8080/"
        },
        "outputId": "fd9488c9-212e-47a6-fb70-26de7b9eedfd"
      },
      "execution_count": null,
      "outputs": [
        {
          "output_type": "stream",
          "name": "stdout",
          "text": [
            "['Заморозка', 'Холодильник', 'Комнатная']\n"
          ]
        }
      ]
    },
    {
      "cell_type": "markdown",
      "source": [
        "#Задача 2: Мониторинг IT-серверов компании"
      ],
      "metadata": {
        "id": "r93Xf105c76v"
      }
    },
    {
      "cell_type": "markdown",
      "source": [
        "* 90-100% загрузки означает \"Отличная работа\" (сервер работает на полную мощность)\n",
        "* 80-89% загрузки означает \"Хорошая работа\" (сервер работает стабильно)\n",
        "* Менее 80% загрузки означает \"Требует внимания\" (возможно, что-то не так)"
      ],
      "metadata": {
        "id": "uZfLUYY7hLiy"
      }
    },
    {
      "cell_type": "code",
      "source": [
        "servers = {'server1': 85, 'server2': 92, 'server3': 78}\n",
        "\n",
        "# {'server1': 'Хорошая работа', 'server2': 'Отличная работа', 'server3': 'Требует внимания'}"
      ],
      "metadata": {
        "id": "Hl0InJ0whLMT"
      },
      "execution_count": null,
      "outputs": []
    },
    {
      "cell_type": "code",
      "source": [
        "def analyze_servers(servers_data):\n",
        "  result = {}\n",
        "\n",
        "  for name,value in servers_data.items():\n",
        "    if 100 >= value >= 90:\n",
        "      result[name] = 'Отличная работа'\n",
        "    elif 89 >= value >= 80:\n",
        "      result[name] = 'Хорошая работа'\n",
        "    elif value < 80:\n",
        "      result[name] ='Требует внимания'\n",
        "\n",
        "  return result\n",
        "\n",
        "print(analyze_servers(servers))"
      ],
      "metadata": {
        "colab": {
          "base_uri": "https://localhost:8080/"
        },
        "id": "lf2KUYgnhLcZ",
        "outputId": "2ba04a38-dc5c-402a-b369-cf089f13a239"
      },
      "execution_count": null,
      "outputs": [
        {
          "output_type": "stream",
          "name": "stdout",
          "text": [
            "{'server1': 'Хорошая работа', 'server2': 'Отличная работа', 'server3': 'Требует внимания'}\n"
          ]
        }
      ]
    },
    {
      "cell_type": "markdown",
      "source": [
        "# Задача 3: Анализ кредитоспособности клиентов банка"
      ],
      "metadata": {
        "id": "XKK5oeK_c8ZC"
      }
    },
    {
      "cell_type": "markdown",
      "source": [
        "\n",
        "* **Что получает на вход:**  Текст, выделенный полужирным шрифтом список чисел - кредитные рейтинги всех клиентов банка\n",
        "* **Что должна вернуть:** словарь с двумя ключами: 'count' (количество хороших клиентов) и 'percentage' (какой процент от всех клиентов они составляют)\n",
        "* **Правило оценки:** клиент считается надежным, если его рейтинг больше 700 баллов\n",
        "\n",
        "\n",
        "\n"
      ],
      "metadata": {
        "id": "YCZv-10Xj8Ve"
      }
    },
    {
      "cell_type": "code",
      "source": [
        "ratings = [720, 650, 750, 600] # У нас 4 клиента\n",
        "# {'count': 2, 'percentage': 50.0} - два из четырех клиентов надежные"
      ],
      "metadata": {
        "id": "BOTLSww9jsKs"
      },
      "execution_count": null,
      "outputs": []
    },
    {
      "cell_type": "code",
      "source": [
        "def analyze_credit_scores(ratings):\n",
        "    count = 0\n",
        "    for i in ratings:\n",
        "        if i > 700:\n",
        "            count += 1\n",
        "            percentage  = (count/len(ratings))*100\n",
        "    return f\"'count': {count}, 'percentage': {percentage} \"\n",
        "\n",
        "print(analyze_credit_scores(ratings))"
      ],
      "metadata": {
        "colab": {
          "base_uri": "https://localhost:8080/"
        },
        "id": "Q1cxqpNJj7-n",
        "outputId": "fc981138-b5ee-4e17-d8d2-a10370f3bd28"
      },
      "execution_count": null,
      "outputs": [
        {
          "output_type": "stream",
          "name": "stdout",
          "text": [
            "'count': 2, 'percentage': 50.0 \n"
          ]
        }
      ]
    },
    {
      "cell_type": "markdown",
      "source": [
        "# Задача 4: Учет брака на производстве"
      ],
      "metadata": {
        "id": "xrYzxIqkc8rK"
      }
    },
    {
      "cell_type": "markdown",
      "source": [
        "\n",
        "*   Что получает на вход: список чисел - ID всех найденных дефектов (с возможными повторами)\n",
        "* Что должна вернуть: список уникальных ID дефектов, отсортированный по возрастанию\n",
        "* Особое требование: в решении обязательно использовать множество (set) и цикл while\n",
        "\n"
      ],
      "metadata": {
        "id": "0yxpotdVsfAn"
      }
    },
    {
      "cell_type": "code",
      "source": [
        "defects = [101, 205, 101, 308, 205] # Некоторые дефекты повторяются\n",
        "\n",
        "# [101, 205, 308] - уникальные дефекты в отсортированном виде"
      ],
      "metadata": {
        "id": "_-fa9rqCr9VU"
      },
      "execution_count": null,
      "outputs": []
    },
    {
      "cell_type": "code",
      "source": [
        "def get_unique_defects(defect_list):\n",
        "  result = []\n",
        "  while defect_list != result:\n",
        "    defect_list = list(set(defect_list))\n",
        "    return defect_list\n",
        "\n",
        "print(get_unique_defects(defects))"
      ],
      "metadata": {
        "colab": {
          "base_uri": "https://localhost:8080/"
        },
        "id": "cbONSX6Br9Hg",
        "outputId": "c42131e8-ce55-47a5-b7a0-feedb135aff6"
      },
      "execution_count": null,
      "outputs": [
        {
          "output_type": "stream",
          "name": "stdout",
          "text": [
            "[205, 308, 101]\n"
          ]
        }
      ]
    },
    {
      "cell_type": "code",
      "source": [
        "def get_unique_defects(defect_list):\n",
        "    i = 0\n",
        "    while i < len(defect_list) - 1:\n",
        "        if defect_list[i] >= defect_list[i+1]:\n",
        "            defect_list.pop(i+1)\n",
        "        else:\n",
        "            i += 1\n",
        "    return defect_list\n",
        "\n",
        "print(get_unique_defects(defects))"
      ],
      "metadata": {
        "colab": {
          "base_uri": "https://localhost:8080/"
        },
        "id": "QBwpio4Btu8q",
        "outputId": "7c0898ce-4169-4ed9-a93e-55c7fb2c2014"
      },
      "execution_count": null,
      "outputs": [
        {
          "output_type": "stream",
          "name": "stdout",
          "text": [
            "[101, 205, 308]\n"
          ]
        }
      ]
    },
    {
      "cell_type": "markdown",
      "source": [
        "# Задача 5: Оценка эффективности рекламы"
      ],
      "metadata": {
        "id": "genhKDFNc898"
      }
    },
    {
      "cell_type": "markdown",
      "source": [
        "* Что получает на вход: список чисел - показатели CTR для каждой рекламной кампании в процентах\n",
        "* Что должна вернуть: список позиций (индексов) тех кампаний, которые показали высокую эффективность\n",
        "* Критерий успешности: кампания считается эффективной, если её CTR больше 3.0%\n",
        "* Особое требование: обязательно использовать функцию enumerate() для получения позиций"
      ],
      "metadata": {
        "id": "epWgDVJvui5Q"
      }
    },
    {
      "cell_type": "code",
      "source": [
        "ctr_rates = [2.5, 3.2, 1.8, 4.1] # CTR четырех кампаний\n",
        " # [1, 3] - это позиции кампаний с CTR 3.2% и 4.1%"
      ],
      "metadata": {
        "id": "Wy9vlgCFuiW1"
      },
      "execution_count": null,
      "outputs": []
    },
    {
      "cell_type": "code",
      "source": [
        "def find_high_ctr_campaigns(ctr_rates):\n",
        "  result = []\n",
        "  for i in ctr_rates:\n",
        "    if i > 3:\n",
        "      result.append(ctr_rates.index(i))\n",
        "  return f\"{result} - это позиции кампаний с CTR \"\n",
        "\n",
        "print(find_high_ctr_campaigns(ctr_rates))"
      ],
      "metadata": {
        "colab": {
          "base_uri": "https://localhost:8080/"
        },
        "id": "cmGyPGNVuiRJ",
        "outputId": "4271d66e-e75f-499a-b5a4-b15fa23742bd"
      },
      "execution_count": null,
      "outputs": [
        {
          "output_type": "stream",
          "name": "stdout",
          "text": [
            "[1, 3] - это позиции кампаний с CTR \n"
          ]
        }
      ]
    },
    {
      "cell_type": "markdown",
      "source": [
        "# Задача 6: Контроль остатков товаров на складе"
      ],
      "metadata": {
        "id": "PKObpKCTc9ON"
      }
    },
    {
      "cell_type": "markdown",
      "source": [
        "* Что получает на вход: словарь, где ключ - название товара, а значение - количество единиц этого товара на складе\n",
        "* Что должна вернуть: словарь с ключами 'items' (список названий товаров с низкими остатками) и 'total_cost' (общая стоимость этих товаров)\n",
        "* Критерий низких остатков: товар считается на исходе, если его осталось меньше 25 единиц\n",
        "* Для расчета стоимости: считайте, что каждая единица любого товара стоит 1000 тенге"
      ],
      "metadata": {
        "id": "7yVDTWt7wnF0"
      }
    },
    {
      "cell_type": "code",
      "source": [
        "inventory = {'laptop': 23, 'phone': 50, 'camera': 12}\n",
        "# {'items': ['laptop', 'camera'], 'total_cost': 35000}\n",
        "# laptop (23 шт) + camera (12 шт) = 35 штук × 1000 тенге = 35000 тенге"
      ],
      "metadata": {
        "id": "yn1OfeKwwlVE"
      },
      "execution_count": null,
      "outputs": []
    },
    {
      "cell_type": "code",
      "source": [
        "def analyze_inventory(inventory):\n",
        "  count = 0\n",
        "  result = []\n",
        "  for tech, numbers in inventory.items():\n",
        "    if numbers < 25:\n",
        "      count += numbers * 1000\n",
        "      result.append(tech)\n",
        "  return {'items': result,'total_cost': count}\n",
        "\n",
        "\n",
        "\n",
        "print(analyze_inventory(inventory))"
      ],
      "metadata": {
        "colab": {
          "base_uri": "https://localhost:8080/"
        },
        "id": "3LHLzzKjwl-G",
        "outputId": "9c8acfef-809e-489b-aa2e-d255237f02e7"
      },
      "execution_count": null,
      "outputs": [
        {
          "output_type": "stream",
          "name": "stdout",
          "text": [
            "{'items': ['laptop', 'camera'], 'total_cost': 35000}\n"
          ]
        }
      ]
    },
    {
      "cell_type": "markdown",
      "source": [
        "# Задача 7: Проверка номеров банковских карт"
      ],
      "metadata": {
        "id": "Xzw6jhqkc9dU"
      }
    },
    {
      "cell_type": "markdown",
      "source": [
        "* Что получает на вход: список строк - номера банковских карт в разных форматах\n",
        "* Что должна вернуть: список результатов проверки для каждой карты (\"Корректный\" или \"Некорректный\")\n",
        "* Правило проверки: правильный номер карты содержит ровно 16 цифр (дефисы и пробелы не считаются)\n",
        "* Особое требование: использовать методы строк replace(), isdigit(), len()"
      ],
      "metadata": {
        "id": "YT-d325zF3ey"
      }
    },
    {
      "cell_type": "code",
      "source": [
        "cards = ['4532-1234-5678-9012', '1234', '5678901234567890']\n",
        "# ['Корректный', 'Некорректный', 'Корректный']\n",
        "# Первая карта: 16 цифр (дефисы не считаются) - правильно\n",
        "# Вторая карта: только 4 цифры - неправильно\n",
        "# Третья карта: ровно 16 цифр - правильно"
      ],
      "metadata": {
        "id": "ojWjMYzKF3Du"
      },
      "execution_count": null,
      "outputs": []
    },
    {
      "cell_type": "code",
      "source": [
        "def validate_cards(cards):\n",
        "  result = []\n",
        "  for i in cards:\n",
        "    if len(i) >= 16:\n",
        "      result.append('Корректный')\n",
        "    else:\n",
        "      result.append('Некорректный')\n",
        "  return result\n",
        "\n",
        "print(validate_cards(cards))"
      ],
      "metadata": {
        "colab": {
          "base_uri": "https://localhost:8080/"
        },
        "id": "Fw1MuJrYF28T",
        "outputId": "fadfa9ff-9341-4054-cace-4046e3bb4403"
      },
      "execution_count": null,
      "outputs": [
        {
          "output_type": "stream",
          "name": "stdout",
          "text": [
            "['Корректный', 'Некорректный', 'Корректный']\n"
          ]
        }
      ]
    },
    {
      "cell_type": "code",
      "source": [
        "def validate_cards(cards):\n",
        "    result = []\n",
        "    for i in cards:\n",
        "        value = 'Некорректный'\n",
        "        if len(i) >= 16:\n",
        "            value = value.replace('Некорректный', 'Корректный')\n",
        "        result.append(value)\n",
        "    return result\n",
        "\n",
        "print(validate_cards(cards))\n"
      ],
      "metadata": {
        "colab": {
          "base_uri": "https://localhost:8080/"
        },
        "id": "lMKqTkYIbTo4",
        "outputId": "e2ca3574-b3b4-4967-a97e-00f39b90bfb4"
      },
      "execution_count": null,
      "outputs": [
        {
          "output_type": "stream",
          "name": "stdout",
          "text": [
            "['Корректный', 'Некорректный', 'Корректный']\n"
          ]
        }
      ]
    },
    {
      "cell_type": "markdown",
      "source": [
        "# Задача 8: Анализ корпоративной почты в HR отделе"
      ],
      "metadata": {
        "id": "sP2OyKVBc9ui"
      }
    },
    {
      "cell_type": "markdown",
      "source": [
        "* Что получает на вход: список строк - email адреса всех сотрудников\n",
        "* Что должна вернуть: словарь с ключами 'corporate_count' (количество корпоративных email), 'total_count' (общее количество email) и 'percentage' (процент\n",
        "корпоративных адресов)\n",
        "* Критерий корпоративного email: адрес должен заканчиваться на '@company.com'\n",
        "* Особое требование: использовать метод строк endswith()"
      ],
      "metadata": {
        "id": "0KYegaUiGteS"
      }
    },
    {
      "cell_type": "code",
      "source": [
        "emails = ['ivan@company.com', 'maria@gmail.com', 'alex@company.com']\n",
        "# {'corporate_count': 2, 'total_count': 3, 'percentage': 66.7}\n",
        "# Из 3 сотрудников 2 используют корпоративную почту (66.7%)"
      ],
      "metadata": {
        "id": "RJuTfnNfGtOV"
      },
      "execution_count": null,
      "outputs": []
    },
    {
      "cell_type": "code",
      "source": [
        "def analyze_emails(emails):\n",
        "  count = 0\n",
        "  total_count = 0\n",
        "  for i in emails:\n",
        "    total_count += 1\n",
        "    if i.endswith('@company.com'):\n",
        "      count += 1\n",
        "      percentage = (count/len(emails))*100\n",
        "  return {'corporate_count': count, 'total_count': total_count, 'percentage': round(percentage, 1)}\n",
        "\n",
        "\n",
        "print(analyze_emails(emails))"
      ],
      "metadata": {
        "colab": {
          "base_uri": "https://localhost:8080/"
        },
        "id": "_b8JadehGs0w",
        "outputId": "fc834c65-b99c-4fb9-f34a-f60eb506b2dc"
      },
      "execution_count": null,
      "outputs": [
        {
          "output_type": "stream",
          "name": "stdout",
          "text": [
            "{'corporate_count': 2, 'total_count': 3, 'percentage': 66.7}\n"
          ]
        }
      ]
    },
    {
      "cell_type": "markdown",
      "source": [
        "# Задача 9: Мониторинг службы доставки"
      ],
      "metadata": {
        "id": "9oziKr9gc981"
      }
    },
    {
      "cell_type": "markdown",
      "source": [
        "* Что получает на вход: список строк - статусы всех заказов за период\n",
        "* Что должна вернуть: словарь с ключами 'successful_count' (количество доставленных заказов), 'total_count' (общее количество заказов) и 'success_rate'\n",
        "(процент успешности, округленный до 1 знака после запятой)\n",
        "* Критерий успешной доставки: статус заказа равен 'delivered'"
      ],
      "metadata": {
        "id": "U5cseW7UGvGm"
      }
    },
    {
      "cell_type": "code",
      "source": [
        "statuses = ['delivered', 'pending', 'delivered', 'cancelled']\n",
        "# {'successful_count': 2, 'total_count': 4, 'success_rate': 50.0}\n",
        "# Из 4 заказов успешно доставлено 2 (50% успешности)"
      ],
      "metadata": {
        "id": "L7SPkqYEGulB"
      },
      "execution_count": null,
      "outputs": []
    },
    {
      "cell_type": "code",
      "source": [
        "def analyze_deliveries(statuses):\n",
        "  count = 0\n",
        "  total_count = 0\n",
        "  for i in statuses:\n",
        "    total_count += 1\n",
        "    if i == 'delivered':\n",
        "      count += 1\n",
        "      success_rate = (count/len(statuses))*100\n",
        "  return {'successful_count': count, 'total_count': total_count, 'success_rate': round(success_rate, 1)}\n",
        "\n",
        "\n",
        "print(analyze_deliveries(statuses))"
      ],
      "metadata": {
        "colab": {
          "base_uri": "https://localhost:8080/"
        },
        "id": "1Bzq1TesGuNd",
        "outputId": "33781cff-f276-4c0a-be34-08989c651fb9"
      },
      "execution_count": null,
      "outputs": [
        {
          "output_type": "stream",
          "name": "stdout",
          "text": [
            "{'successful_count': 2, 'total_count': 4, 'success_rate': 50.0}\n"
          ]
        }
      ]
    },
    {
      "cell_type": "markdown",
      "source": [
        "# Задача 10: Калькулятор бизнес-прибыли"
      ],
      "metadata": {
        "id": "8uobDYyrc-K-"
      }
    },
    {
      "cell_type": "markdown",
      "source": [
        "* Что получает на вход: два числа - выручку компании и её расходы\n",
        "* Что должна вернуть: словарь с ключами 'profit' (прибыль) и 'margin_percent' (маржа в процентах, округленная до 2 знаков)\n",
        "* Формулы расчета:\n",
        "  *   Прибыль = Выручка - Расходы\n",
        "  *   Маржа = (Прибыль ÷ Выручка) × 100%\n",
        "* Особые требования:\n",
        "  *  Проверять, что входные данные - это числа\n",
        "  *  Обрабатывать случай, когда выручка равна нулю (избежать деления на ноль)\n",
        "\n"
      ],
      "metadata": {
        "id": "lH7ge8JiGwXS"
      }
    },
    {
      "cell_type": "code",
      "source": [
        "calculate_profit(150000, 95000)\n",
        "# {'profit': 55000, 'margin_percent': 36.67}\n",
        "# Прибыль: 150000 - 95000 = 55000 тенге\n",
        "# Маржа: (55000 ÷ 150000) × 100% = 36.67%"
      ],
      "metadata": {
        "colab": {
          "base_uri": "https://localhost:8080/"
        },
        "id": "BXAvtf4mGv8L",
        "outputId": "069dc283-39a3-4e3f-c138-06ef0172050f"
      },
      "execution_count": null,
      "outputs": [
        {
          "output_type": "execute_result",
          "data": {
            "text/plain": [
              "{'profit': 55000, 'margin_percent': 36.67}"
            ]
          },
          "metadata": {},
          "execution_count": 247
        }
      ]
    },
    {
      "cell_type": "code",
      "source": [
        "def calculate_profit(revenue, costs):\n",
        "  profit = revenue - costs\n",
        "  margin_percent = (profit/revenue)*100\n",
        "\n",
        "  return {'profit': profit, 'margin_percent': round(margin_percent, 2)}\n",
        "\n",
        "\n",
        "print(calculate_profit(150000, 95000))\n"
      ],
      "metadata": {
        "colab": {
          "base_uri": "https://localhost:8080/"
        },
        "id": "zDc-dsuhGv1-",
        "outputId": "2c266fc1-6561-4b1e-96e1-d793e6a7c472"
      },
      "execution_count": null,
      "outputs": [
        {
          "output_type": "stream",
          "name": "stdout",
          "text": [
            "{'profit': 55000, 'margin_percent': 36.67}\n"
          ]
        }
      ]
    },
    {
      "cell_type": "markdown",
      "source": [
        "# Задача 11: Система скидок в страховой компании"
      ],
      "metadata": {
        "id": "T9cuMG-Lc-ZN"
      }
    },
    {
      "cell_type": "markdown",
      "source": [
        "# Задача 12: Анализ телефонных переговоров"
      ],
      "metadata": {
        "id": "q2JY8te3c-nz"
      }
    },
    {
      "cell_type": "markdown",
      "source": [
        "# Задача 13: Расчет доходности банковских вкладов"
      ],
      "metadata": {
        "id": "ff1m7CIKc--U"
      }
    },
    {
      "cell_type": "markdown",
      "source": [
        "# Задача 14: Анализ активности в социальной сети"
      ],
      "metadata": {
        "id": "_tFbOYAJdpS7"
      }
    },
    {
      "cell_type": "markdown",
      "source": [
        "# Задача 15: Система анализа успеваемости студентов"
      ],
      "metadata": {
        "id": "-ooMC0FLfi2V"
      }
    },
    {
      "cell_type": "markdown",
      "source": [
        "# Задача 16: Анализ трендов продаж для бизнеса"
      ],
      "metadata": {
        "id": "ww21reJ5fjGv"
      }
    },
    {
      "cell_type": "markdown",
      "source": [
        "# Задача 17: Медицинская система мониторинга пациентов"
      ],
      "metadata": {
        "id": "1Ftc4hoSfjmW"
      }
    },
    {
      "cell_type": "markdown",
      "source": [
        "# Задача 18: Оптимизация расходов на топливо в логистике"
      ],
      "metadata": {
        "id": "0DMwRo5LfkH4"
      }
    },
    {
      "cell_type": "markdown",
      "source": [
        "# Задача 19: Анализ урожайности в сельском хозяйстве"
      ],
      "metadata": {
        "id": "0iL_oLP9fkhV"
      }
    },
    {
      "cell_type": "markdown",
      "source": [
        "# Задача 20: Система управления банковскими счетами"
      ],
      "metadata": {
        "id": "WrM_qknifzr_"
      }
    }
  ]
}