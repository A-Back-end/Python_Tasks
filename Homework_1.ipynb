{
  "nbformat": 4,
  "nbformat_minor": 0,
  "metadata": {
    "colab": {
      "provenance": [],
      "collapsed_sections": [
        "wzShwH21c6VF",
        "r93Xf105c76v",
        "XKK5oeK_c8ZC",
        "xrYzxIqkc8rK",
        "genhKDFNc898",
        "PKObpKCTc9ON",
        "Xzw6jhqkc9dU",
        "sP2OyKVBc9ui",
        "9oziKr9gc981",
        "8uobDYyrc-K-",
        "T9cuMG-Lc-ZN",
        "PXRRtzA-iKWx",
        "ff1m7CIKc--U",
        "-ooMC0FLfi2V",
        "ww21reJ5fjGv"
      ],
      "include_colab_link": true
    },
    "kernelspec": {
      "name": "python3",
      "display_name": "Python 3"
    },
    "language_info": {
      "name": "python"
    }
  },
  "cells": [
    {
      "cell_type": "markdown",
      "metadata": {
        "id": "view-in-github",
        "colab_type": "text"
      },
      "source": [
        "<a href=\"https://colab.research.google.com/github/A-Back-end/Python_Tasks/blob/main/Homework_1.ipynb\" target=\"_parent\"><img src=\"https://colab.research.google.com/assets/colab-badge.svg\" alt=\"Open In Colab\"/></a>"
      ]
    },
    {
      "cell_type": "markdown",
      "source": [
        "# Задача 1: Система хранения продуктов в службе доставки еды"
      ],
      "metadata": {
        "id": "wzShwH21c6VF"
      }
    },
    {
      "cell_type": "markdown",
      "source": [
        "\n",
        "\n",
        "*   Если температура ниже 0 градусов - продукт идет в \"Заморозка\"\n",
        "*   Если температура от 0 до 10 градусов включительно - в \"Холодильник\"\n",
        "*   Если температура выше 10 градусов - остается при \"Комнатная\" температуре\n"
      ],
      "metadata": {
        "id": "DnFQWsubf4FB"
      }
    },
    {
      "cell_type": "code",
      "source": [
        "temperatures = [-18, 4, 25]\n",
        "# ['Заморозка', 'Холодильник', 'Комнатная']"
      ],
      "metadata": {
        "id": "75SxRgmef31P"
      },
      "execution_count": null,
      "outputs": []
    },
    {
      "cell_type": "code",
      "source": [
        "def categorize_temperatures(temperatures):\n",
        "  result = []\n",
        "  for i in temperatures:\n",
        "    if i < 0:\n",
        "      result.append('Заморозка')\n",
        "    elif 0 <= i <= 10:\n",
        "      result.append('Холодильник')\n",
        "    elif i > 10:\n",
        "      result.append('Комнатная')\n",
        "  return result\n",
        "\n",
        "print(categorize_temperatures(temperatures))"
      ],
      "metadata": {
        "id": "WrjvP7E6f3vG",
        "colab": {
          "base_uri": "https://localhost:8080/"
        },
        "outputId": "4f077db0-a0c3-458b-e069-1217f3755d7f"
      },
      "execution_count": null,
      "outputs": [
        {
          "output_type": "stream",
          "name": "stdout",
          "text": [
            "['Заморозка', 'Холодильник', 'Комнатная']\n"
          ]
        }
      ]
    },
    {
      "cell_type": "markdown",
      "source": [
        "#Задача 2: Мониторинг IT-серверов компании"
      ],
      "metadata": {
        "id": "r93Xf105c76v"
      }
    },
    {
      "cell_type": "markdown",
      "source": [
        "* 90-100% загрузки означает \"Отличная работа\" (сервер работает на полную мощность)\n",
        "* 80-89% загрузки означает \"Хорошая работа\" (сервер работает стабильно)\n",
        "* Менее 80% загрузки означает \"Требует внимания\" (возможно, что-то не так)"
      ],
      "metadata": {
        "id": "uZfLUYY7hLiy"
      }
    },
    {
      "cell_type": "code",
      "source": [
        "servers = {'server1': 85, 'server2': 92, 'server3': 78}\n",
        "\n",
        "# {'server1': 'Хорошая работа', 'server2': 'Отличная работа', 'server3': 'Требует внимания'}"
      ],
      "metadata": {
        "id": "Hl0InJ0whLMT"
      },
      "execution_count": null,
      "outputs": []
    },
    {
      "cell_type": "code",
      "source": [
        "def analyze_servers(servers_data):\n",
        "  result = {}\n",
        "\n",
        "  for name,value in servers_data.items():\n",
        "    if 100 >= value >= 90:\n",
        "      result[name] = 'Отличная работа'\n",
        "    elif 89 >= value >= 80:\n",
        "      result[name] = 'Хорошая работа'\n",
        "    elif value < 80:\n",
        "      result[name] ='Требует внимания'\n",
        "\n",
        "  return result\n",
        "\n",
        "print(analyze_servers(servers))"
      ],
      "metadata": {
        "colab": {
          "base_uri": "https://localhost:8080/"
        },
        "id": "lf2KUYgnhLcZ",
        "outputId": "e8012287-2e68-48b4-e490-a187a18174d9"
      },
      "execution_count": null,
      "outputs": [
        {
          "output_type": "stream",
          "name": "stdout",
          "text": [
            "{'server1': 'Хорошая работа', 'server2': 'Отличная работа', 'server3': 'Требует внимания'}\n"
          ]
        }
      ]
    },
    {
      "cell_type": "markdown",
      "source": [
        "# Задача 3: Анализ кредитоспособности клиентов банка"
      ],
      "metadata": {
        "id": "XKK5oeK_c8ZC"
      }
    },
    {
      "cell_type": "markdown",
      "source": [
        "\n",
        "* **Что получает на вход:**  Текст, выделенный полужирным шрифтом список чисел - кредитные рейтинги всех клиентов банка\n",
        "* **Что должна вернуть:** словарь с двумя ключами: 'count' (количество хороших клиентов) и 'percentage' (какой процент от всех клиентов они составляют)\n",
        "* **Правило оценки:** клиент считается надежным, если его рейтинг больше 700 баллов\n",
        "\n",
        "\n",
        "\n"
      ],
      "metadata": {
        "id": "YCZv-10Xj8Ve"
      }
    },
    {
      "cell_type": "code",
      "source": [
        "ratings = [720, 650, 750, 600] # У нас 4 клиента\n",
        "# {'count': 2, 'percentage': 50.0} - два из четырех клиентов надежные"
      ],
      "metadata": {
        "id": "BOTLSww9jsKs"
      },
      "execution_count": null,
      "outputs": []
    },
    {
      "cell_type": "code",
      "source": [
        "def analyze_credit_scores(ratings):\n",
        "    count = 0\n",
        "    for i in ratings:\n",
        "        if i > 700:\n",
        "            count += 1\n",
        "            percentage  = (count/len(ratings))*100\n",
        "    return f\"'count': {count}, 'percentage': {percentage} \"\n",
        "\n",
        "print(analyze_credit_scores(ratings))"
      ],
      "metadata": {
        "colab": {
          "base_uri": "https://localhost:8080/"
        },
        "id": "Q1cxqpNJj7-n",
        "outputId": "f82b3ffc-43ed-42a7-9466-d8b570d05545"
      },
      "execution_count": null,
      "outputs": [
        {
          "output_type": "stream",
          "name": "stdout",
          "text": [
            "'count': 2, 'percentage': 50.0 \n"
          ]
        }
      ]
    },
    {
      "cell_type": "markdown",
      "source": [
        "# Задача 4: Учет брака на производстве"
      ],
      "metadata": {
        "id": "xrYzxIqkc8rK"
      }
    },
    {
      "cell_type": "markdown",
      "source": [
        "\n",
        "*   Что получает на вход: список чисел - ID всех найденных дефектов (с возможными повторами)\n",
        "* Что должна вернуть: список уникальных ID дефектов, отсортированный по возрастанию\n",
        "* Особое требование: в решении обязательно использовать множество (set) и цикл while\n",
        "\n"
      ],
      "metadata": {
        "id": "0yxpotdVsfAn"
      }
    },
    {
      "cell_type": "code",
      "source": [
        "defects = [101, 205, 101, 308, 205] # Некоторые дефекты повторяются\n",
        "\n",
        "# [101, 205, 308] - уникальные дефекты в отсортированном виде"
      ],
      "metadata": {
        "id": "_-fa9rqCr9VU"
      },
      "execution_count": null,
      "outputs": []
    },
    {
      "cell_type": "code",
      "source": [
        "def get_unique_defects(defect_list):\n",
        "  result = []\n",
        "  while defect_list != result:\n",
        "    defect_list = list(set(defect_list))\n",
        "    return defect_list\n",
        "\n",
        "print(get_unique_defects(defects))"
      ],
      "metadata": {
        "colab": {
          "base_uri": "https://localhost:8080/"
        },
        "id": "cbONSX6Br9Hg",
        "outputId": "22ad4d0f-bd8f-4624-df6b-21e74d4529e4"
      },
      "execution_count": null,
      "outputs": [
        {
          "output_type": "stream",
          "name": "stdout",
          "text": [
            "[205, 308, 101]\n"
          ]
        }
      ]
    },
    {
      "cell_type": "code",
      "source": [
        "def get_unique_defects(defect_list):\n",
        "    i = 0\n",
        "    while i < len(defect_list) - 1:\n",
        "        if defect_list[i] >= defect_list[i+1]:\n",
        "            defect_list.pop(i+1)\n",
        "        else:\n",
        "            i += 1\n",
        "    return defect_list\n",
        "\n",
        "print(get_unique_defects(defects))"
      ],
      "metadata": {
        "colab": {
          "base_uri": "https://localhost:8080/"
        },
        "id": "QBwpio4Btu8q",
        "outputId": "0f1ee7ae-b7e5-4d7e-b581-3ad217de8a34"
      },
      "execution_count": null,
      "outputs": [
        {
          "output_type": "stream",
          "name": "stdout",
          "text": [
            "[101, 205, 308]\n"
          ]
        }
      ]
    },
    {
      "cell_type": "markdown",
      "source": [
        "# Задача 5: Оценка эффективности рекламы"
      ],
      "metadata": {
        "id": "genhKDFNc898"
      }
    },
    {
      "cell_type": "markdown",
      "source": [
        "* Что получает на вход: список чисел - показатели CTR для каждой рекламной кампании в процентах\n",
        "* Что должна вернуть: список позиций (индексов) тех кампаний, которые показали высокую эффективность\n",
        "* Критерий успешности: кампания считается эффективной, если её CTR больше 3.0%\n",
        "* Особое требование: обязательно использовать функцию enumerate() для получения позиций"
      ],
      "metadata": {
        "id": "epWgDVJvui5Q"
      }
    },
    {
      "cell_type": "code",
      "source": [
        "ctr_rates = [2.5, 3.2, 1.8, 4.1] # CTR четырех кампаний\n",
        " # [1, 3] - это позиции кампаний с CTR 3.2% и 4.1%"
      ],
      "metadata": {
        "id": "Wy9vlgCFuiW1"
      },
      "execution_count": null,
      "outputs": []
    },
    {
      "cell_type": "code",
      "source": [
        "def find_high_ctr_campaigns(ctr_rates):\n",
        "  result = []\n",
        "  for i in ctr_rates:\n",
        "    if i > 3:\n",
        "      result.append(ctr_rates.index(i))\n",
        "  return f\"{result} - это позиции кампаний с CTR \"\n",
        "\n",
        "print(find_high_ctr_campaigns(ctr_rates))"
      ],
      "metadata": {
        "colab": {
          "base_uri": "https://localhost:8080/"
        },
        "id": "cmGyPGNVuiRJ",
        "outputId": "7cbef61c-6e48-4844-f96a-60c224f73b94"
      },
      "execution_count": null,
      "outputs": [
        {
          "output_type": "stream",
          "name": "stdout",
          "text": [
            "[1, 3] - это позиции кампаний с CTR \n"
          ]
        }
      ]
    },
    {
      "cell_type": "markdown",
      "source": [
        "# Задача 6: Контроль остатков товаров на складе"
      ],
      "metadata": {
        "id": "PKObpKCTc9ON"
      }
    },
    {
      "cell_type": "markdown",
      "source": [
        "* Что получает на вход: словарь, где ключ - название товара, а значение - количество единиц этого товара на складе\n",
        "* Что должна вернуть: словарь с ключами 'items' (список названий товаров с низкими остатками) и 'total_cost' (общая стоимость этих товаров)\n",
        "* Критерий низких остатков: товар считается на исходе, если его осталось меньше 25 единиц\n",
        "* Для расчета стоимости: считайте, что каждая единица любого товара стоит 1000 тенге"
      ],
      "metadata": {
        "id": "7yVDTWt7wnF0"
      }
    },
    {
      "cell_type": "code",
      "source": [
        "inventory = {'laptop': 23, 'phone': 50, 'camera': 12}\n",
        "# {'items': ['laptop', 'camera'], 'total_cost': 35000}\n",
        "# laptop (23 шт) + camera (12 шт) = 35 штук × 1000 тенге = 35000 тенге"
      ],
      "metadata": {
        "id": "yn1OfeKwwlVE"
      },
      "execution_count": null,
      "outputs": []
    },
    {
      "cell_type": "code",
      "source": [
        "def analyze_inventory(inventory):\n",
        "  count = 0\n",
        "  result = []\n",
        "  for tech, numbers in inventory.items():\n",
        "    if numbers < 25:\n",
        "      count += numbers * 1000\n",
        "      result.append(tech)\n",
        "  return {'items': result,'total_cost': count}\n",
        "\n",
        "\n",
        "\n",
        "print(analyze_inventory(inventory))"
      ],
      "metadata": {
        "colab": {
          "base_uri": "https://localhost:8080/"
        },
        "id": "3LHLzzKjwl-G",
        "outputId": "32c92c4a-7bd7-4f22-f020-71293fc43d76"
      },
      "execution_count": null,
      "outputs": [
        {
          "output_type": "stream",
          "name": "stdout",
          "text": [
            "{'items': ['laptop', 'camera'], 'total_cost': 35000}\n"
          ]
        }
      ]
    },
    {
      "cell_type": "markdown",
      "source": [
        "# Задача 7: Проверка номеров банковских карт"
      ],
      "metadata": {
        "id": "Xzw6jhqkc9dU"
      }
    },
    {
      "cell_type": "markdown",
      "source": [
        "* Что получает на вход: список строк - номера банковских карт в разных форматах\n",
        "* Что должна вернуть: список результатов проверки для каждой карты (\"Корректный\" или \"Некорректный\")\n",
        "* Правило проверки: правильный номер карты содержит ровно 16 цифр (дефисы и пробелы не считаются)\n",
        "* Особое требование: использовать методы строк replace(), isdigit(), len()"
      ],
      "metadata": {
        "id": "YT-d325zF3ey"
      }
    },
    {
      "cell_type": "code",
      "source": [
        "cards = ['4532-1234-5678-9012', '1234', '5678901234567890']\n",
        "# ['Корректный', 'Некорректный', 'Корректный']\n",
        "# Первая карта: 16 цифр (дефисы не считаются) - правильно\n",
        "# Вторая карта: только 4 цифры - неправильно\n",
        "# Третья карта: ровно 16 цифр - правильно"
      ],
      "metadata": {
        "id": "ojWjMYzKF3Du"
      },
      "execution_count": null,
      "outputs": []
    },
    {
      "cell_type": "code",
      "source": [
        "def validate_cards(cards):\n",
        "  result = []\n",
        "  for i in cards:\n",
        "    if len(i) >= 16:\n",
        "      result.append('Корректный')\n",
        "    else:\n",
        "      result.append('Некорректный')\n",
        "  return result\n",
        "\n",
        "print(validate_cards(cards))"
      ],
      "metadata": {
        "colab": {
          "base_uri": "https://localhost:8080/"
        },
        "id": "Fw1MuJrYF28T",
        "outputId": "40b43ab2-0287-4bc8-c114-8470559e5c58"
      },
      "execution_count": null,
      "outputs": [
        {
          "output_type": "stream",
          "name": "stdout",
          "text": [
            "['Корректный', 'Некорректный', 'Корректный']\n"
          ]
        }
      ]
    },
    {
      "cell_type": "code",
      "source": [
        "def validate_cards(cards):\n",
        "    result = []\n",
        "    for i in cards:\n",
        "        value = 'Некорректный'\n",
        "        if len(i) >= 16:\n",
        "            value = value.replace('Некорректный', 'Корректный')\n",
        "        result.append(value)\n",
        "    return result\n",
        "\n",
        "print(validate_cards(cards))\n"
      ],
      "metadata": {
        "colab": {
          "base_uri": "https://localhost:8080/"
        },
        "id": "lMKqTkYIbTo4",
        "outputId": "6af7781c-26fe-4dad-f4c9-1685e55daa77"
      },
      "execution_count": null,
      "outputs": [
        {
          "output_type": "stream",
          "name": "stdout",
          "text": [
            "['Корректный', 'Некорректный', 'Корректный']\n"
          ]
        }
      ]
    },
    {
      "cell_type": "markdown",
      "source": [
        "# Задача 8: Анализ корпоративной почты в HR отделе"
      ],
      "metadata": {
        "id": "sP2OyKVBc9ui"
      }
    },
    {
      "cell_type": "markdown",
      "source": [
        "* Что получает на вход: список строк - email адреса всех сотрудников\n",
        "* Что должна вернуть: словарь с ключами 'corporate_count' (количество корпоративных email), 'total_count' (общее количество email) и 'percentage' (процент\n",
        "корпоративных адресов)\n",
        "* Критерий корпоративного email: адрес должен заканчиваться на '@company.com'\n",
        "* Особое требование: использовать метод строк endswith()"
      ],
      "metadata": {
        "id": "0KYegaUiGteS"
      }
    },
    {
      "cell_type": "code",
      "source": [
        "emails = ['ivan@company.com', 'maria@gmail.com', 'alex@company.com']\n",
        "# {'corporate_count': 2, 'total_count': 3, 'percentage': 66.7}\n",
        "# Из 3 сотрудников 2 используют корпоративную почту (66.7%)"
      ],
      "metadata": {
        "id": "RJuTfnNfGtOV"
      },
      "execution_count": null,
      "outputs": []
    },
    {
      "cell_type": "code",
      "source": [
        "def analyze_emails(emails):\n",
        "  count = 0\n",
        "  total_count = 0\n",
        "  for i in emails:\n",
        "    total_count += 1\n",
        "    if i.endswith('@company.com'):\n",
        "      count += 1\n",
        "      percentage = (count/len(emails))*100\n",
        "  return {'corporate_count': count, 'total_count': total_count, 'percentage': round(percentage, 1)}\n",
        "\n",
        "\n",
        "print(analyze_emails(emails))"
      ],
      "metadata": {
        "colab": {
          "base_uri": "https://localhost:8080/"
        },
        "id": "_b8JadehGs0w",
        "outputId": "82fc60c4-5d5f-4458-9491-503d61dd05ce"
      },
      "execution_count": null,
      "outputs": [
        {
          "output_type": "stream",
          "name": "stdout",
          "text": [
            "{'corporate_count': 2, 'total_count': 3, 'percentage': 66.7}\n"
          ]
        }
      ]
    },
    {
      "cell_type": "markdown",
      "source": [
        "# Задача 9: Мониторинг службы доставки"
      ],
      "metadata": {
        "id": "9oziKr9gc981"
      }
    },
    {
      "cell_type": "markdown",
      "source": [
        "* Что получает на вход: список строк - статусы всех заказов за период\n",
        "* Что должна вернуть: словарь с ключами 'successful_count' (количество доставленных заказов), 'total_count' (общее количество заказов) и 'success_rate'\n",
        "(процент успешности, округленный до 1 знака после запятой)\n",
        "* Критерий успешной доставки: статус заказа равен 'delivered'"
      ],
      "metadata": {
        "id": "U5cseW7UGvGm"
      }
    },
    {
      "cell_type": "code",
      "source": [
        "statuses = ['delivered', 'pending', 'delivered', 'cancelled']\n",
        "# {'successful_count': 2, 'total_count': 4, 'success_rate': 50.0}\n",
        "# Из 4 заказов успешно доставлено 2 (50% успешности)"
      ],
      "metadata": {
        "id": "L7SPkqYEGulB"
      },
      "execution_count": null,
      "outputs": []
    },
    {
      "cell_type": "code",
      "source": [
        "def analyze_deliveries(statuses):\n",
        "  count = 0\n",
        "  total_count = 0\n",
        "  for i in statuses:\n",
        "    total_count += 1\n",
        "    if i == 'delivered':\n",
        "      count += 1\n",
        "      success_rate = (count/len(statuses))*100\n",
        "  return {'successful_count': count, 'total_count': total_count, 'success_rate': round(success_rate, 1)}\n",
        "\n",
        "\n",
        "print(analyze_deliveries(statuses))"
      ],
      "metadata": {
        "colab": {
          "base_uri": "https://localhost:8080/"
        },
        "id": "1Bzq1TesGuNd",
        "outputId": "911e17ce-3781-4048-d3b4-6458d7e48b28"
      },
      "execution_count": null,
      "outputs": [
        {
          "output_type": "stream",
          "name": "stdout",
          "text": [
            "{'successful_count': 2, 'total_count': 4, 'success_rate': 50.0}\n"
          ]
        }
      ]
    },
    {
      "cell_type": "markdown",
      "source": [
        "# Задача 10: Калькулятор бизнес-прибыли"
      ],
      "metadata": {
        "id": "8uobDYyrc-K-"
      }
    },
    {
      "cell_type": "markdown",
      "source": [
        "* Что получает на вход: два числа - выручку компании и её расходы\n",
        "* Что должна вернуть: словарь с ключами 'profit' (прибыль) и 'margin_percent' (маржа в процентах, округленная до 2 знаков)\n",
        "* Формулы расчета:\n",
        "  *   Прибыль = Выручка - Расходы\n",
        "  *   Маржа = (Прибыль ÷ Выручка) × 100%\n",
        "* Особые требования:\n",
        "  *  Проверять, что входные данные - это числа\n",
        "  *  Обрабатывать случай, когда выручка равна нулю (избежать деления на ноль)\n",
        "\n"
      ],
      "metadata": {
        "id": "lH7ge8JiGwXS"
      }
    },
    {
      "cell_type": "code",
      "source": [
        "calculate_profit(150000, 95000)\n",
        "# {'profit': 55000, 'margin_percent': 36.67}\n",
        "# Прибыль: 150000 - 95000 = 55000 тенге\n",
        "# Маржа: (55000 ÷ 150000) × 100% = 36.67%"
      ],
      "metadata": {
        "id": "BXAvtf4mGv8L"
      },
      "execution_count": null,
      "outputs": []
    },
    {
      "cell_type": "code",
      "source": [
        "def calculate_profit(revenue, costs):\n",
        "  profit = revenue - costs\n",
        "  margin_percent = (profit/revenue)*100\n",
        "\n",
        "  return {'profit': profit, 'margin_percent': round(margin_percent, 2)}\n",
        "\n",
        "\n",
        "print(calculate_profit(150000, 95000))\n"
      ],
      "metadata": {
        "colab": {
          "base_uri": "https://localhost:8080/"
        },
        "id": "zDc-dsuhGv1-",
        "outputId": "8a8cd408-16af-40ea-ad1c-52f39a566900"
      },
      "execution_count": null,
      "outputs": [
        {
          "output_type": "stream",
          "name": "stdout",
          "text": [
            "{'profit': 55000, 'margin_percent': 36.67}\n"
          ]
        }
      ]
    },
    {
      "cell_type": "markdown",
      "source": [
        "# Задача 11: Система скидок в страховой компании"
      ],
      "metadata": {
        "id": "T9cuMG-Lc-ZN"
      }
    },
    {
      "cell_type": "markdown",
      "source": [
        "\n",
        "Что получает на вход:\n",
        "*  возраст клиента (число)\n",
        "*  количество лет без страховых случаев (число)\n",
        "*  тип полиса: 'basic' (базовый) или 'premium' (премиум)\n",
        "\n",
        "Что должна вернуть: размер итоговой скидки в процентах\n",
        "\n",
        "Правила расчета скидки:\n",
        "*  За каждый год без аварий: +5% к скидке\n",
        "*  Если клиенту больше 25 лет: дополнительно +2% (опытные водители)\n",
        "*  Если полис премиум-класса: дополнительно +10%\n",
        "*  Максимальная скидка не может превышать 30%\n",
        "\n",
        "\n"
      ],
      "metadata": {
        "id": "VjCZ_F80cFXV"
      }
    },
    {
      "cell_type": "code",
      "source": [
        "discount = calculate_insurance_discount(30, 3, 'premium')\n",
        "# 27\n",
        "# Расчет: 3 года без аварий (15%) + возраст >25 лет (2%) + премиум полис (10%) = 27%"
      ],
      "metadata": {
        "id": "7BatEOemcCdT"
      },
      "execution_count": null,
      "outputs": []
    },
    {
      "cell_type": "code",
      "source": [
        "def calculate_insurance_discount(age: int, years_no_claims: int, policy_type: str):\n",
        "  count = 0\n",
        "  if age > 25:\n",
        "    count = count + 2\n",
        "  if years_no_claims >= 1:\n",
        "    count += 5 * years_no_claims\n",
        "  if policy_type == 'premium':\n",
        "    count = count + 10\n",
        "  return count\n",
        "\n",
        "\n",
        "print(calculate_insurance_discount(30, 3, 'premium'))"
      ],
      "metadata": {
        "id": "7GAR3BFzcE3-"
      },
      "execution_count": null,
      "outputs": []
    },
    {
      "cell_type": "markdown",
      "source": [
        "# Задача 12: Анализ телефонных переговоров"
      ],
      "metadata": {
        "id": "PXRRtzA-iKWx"
      }
    },
    {
      "cell_type": "markdown",
      "source": [
        "\n",
        "\n",
        "Что получает на вход: список чисел - длительность каждого звонка в минутах\n",
        "\n",
        "Что должна вернуть: словарь со следующими статистиками:\n",
        "*   'total_time': общее время всех звонков\n",
        "*   'average_time': среднее время одного звонка (округлить до 2 знаков)\n",
        "*   'long_calls_count': количество звонков длиннее 5 минут\n",
        "*   'short_calls_percent': процент звонков короче 2 минут (округлить до 2 знаков)\n",
        "\n",
        "Особое требование: предусмотреть обработку случая, когда список звонков пустой\n",
        "  \n",
        "\n"
      ],
      "metadata": {
        "id": "bKtBqwXziS1e"
      }
    },
    {
      "cell_type": "code",
      "source": [
        "calls = [2.5, 8.1, 1.2, 12.3, 4.7]\n",
        "# {\n",
        "# 'total_time': 28.8, # Сумма всех звонков\n",
        "# 'average_time': 5.76, # 28.8 ÷ 5 = 5.76 минут\n",
        "# 'ong_calls_count': 2, # Звонки 8.1 и 12.3 минут длиннее 5 минут\n",
        "# 'short_calls_percent': 20.0 # 1 звонок из 5 короче 2 минут (20%)\n",
        "# }"
      ],
      "metadata": {
        "id": "QEGJZsiNiSLW"
      },
      "execution_count": null,
      "outputs": []
    },
    {
      "cell_type": "code",
      "source": [
        "def analyze_call_data(call_durations):\n",
        "  long_calls_count = 0\n",
        "  short_calls_percent = 0\n",
        "  total_time = sum(call_durations)\n",
        "  average_time = total_time/len(call_durations)\n",
        "  for i in call_durations:\n",
        "    if i > 5:\n",
        "      long_calls_count += 1\n",
        "    if i < 2:\n",
        "      short_calls_percent += 1\n",
        "      percentage = (short_calls_percent/len(call_durations))*100\n",
        "\n",
        "  return {'total_time': total_time,\n",
        "          'average_time': round(average_time, 2),\n",
        "          'long_calls_count': long_calls_count,\n",
        "          'short_calls_percent': round(percentage, 2)\n",
        "          }\n",
        "\n",
        "\n",
        "print(analyze_call_data(calls))"
      ],
      "metadata": {
        "id": "ePGj8TrznQbC"
      },
      "execution_count": null,
      "outputs": []
    },
    {
      "cell_type": "markdown",
      "source": [
        "# Задача 13: Расчет доходности банковских вкладов"
      ],
      "metadata": {
        "id": "ff1m7CIKc--U"
      }
    },
    {
      "cell_type": "markdown",
      "source": [
        "Что получает на вход:\n",
        "*  первоначальная сумма вклада\n",
        "*  годовая процентная ставка в виде десятичной дроби (например, 0.05 означает 5% годовых)\n",
        "срок вклада в годах\n",
        "*  частота начисления процентов в год (например, 4 означает ежеквартальное начисление)\n",
        "\n",
        "Что должна вернуть: итоговую сумму на счете после окончания срока вклада\n",
        "\n",
        "Формула сложных процентов: A = P × (1 + r/n)^(n×t) где A - итоговая сумма, P - начальная сумма, r - ставка, n - частота начисления, t - время\n",
        "\n",
        "Особые требования:\n",
        "*  Проверять, что все значения положительные\n",
        "*  Проверять, что частота начисления не равна нулю\n",
        "*  При некорректных данных выбрасывать ValueError"
      ],
      "metadata": {
        "id": "nNbCYUqno_cq"
      }
    },
    {
      "cell_type": "code",
      "source": [
        "compound_interest(10000, 0.05, 2, 4)\n",
        "# 11050.63\n",
        "# 10000 тенге под 5% годовых на 2 года с ежеквартальным начислением"
      ],
      "metadata": {
        "colab": {
          "base_uri": "https://localhost:8080/"
        },
        "id": "GMhI4TfHo-9h",
        "outputId": "109dcc07-e891-45ee-f83d-6df36f183550"
      },
      "execution_count": null,
      "outputs": [
        {
          "output_type": "execute_result",
          "data": {
            "text/plain": [
              "11045"
            ]
          },
          "metadata": {},
          "execution_count": 365
        }
      ]
    },
    {
      "cell_type": "code",
      "source": [
        "def compound_interest(principal: int, rate: float, time: int, frequency: int):\n",
        "  try:\n",
        "      total_result = round(principal*(1+(rate/frequency))**(frequency*time))\n",
        "      return total_result\n",
        "  except ValueError:\n",
        "    if principal <= 0 or rate <= 0 or time <= 0 or frequency < 0:\n",
        "      return f\"ValueError: invalid cause they are equal to 0\"\n",
        "  except ZeroDivisionError:\n",
        "    if frequency == 0:\n",
        "       return f\"ZeroDivisionError: invalid, cause frequency is equal to 0\"\n",
        "\n",
        "print(compound_interest(10000, 0.05, 2, 4))"
      ],
      "metadata": {
        "colab": {
          "base_uri": "https://localhost:8080/"
        },
        "id": "2bVULDuYo-vU",
        "outputId": "c8e822e5-ce44-4be3-e7a3-198b5a0b1c84"
      },
      "execution_count": null,
      "outputs": [
        {
          "output_type": "stream",
          "name": "stdout",
          "text": [
            "11045\n"
          ]
        }
      ]
    },
    {
      "cell_type": "markdown",
      "source": [
        "# Задача 14: Анализ активности в социальной сети"
      ],
      "metadata": {
        "id": "_tFbOYAJdpS7"
      }
    },
    {
      "cell_type": "markdown",
      "source": [
        "Что должна вернуть: словарь с показателем вовлеченности для каждого пользователя\n",
        "\n",
        "Формула вовлеченности: (количество лайков + количество комментариев × 2) ÷ количество постов\n",
        "\n",
        "Логика: комментарии весят в 2 раза больше лайков, так как требуют больше усилий от пользователей\n",
        "\n",
        "Особые требования:\n",
        "* Округлять результат до 2 знаков после запятой\n",
        "* Обрабатывать случай, когда у пользователя 0 постов"
      ],
      "metadata": {
        "id": "6Ok9XrDPwRXc"
      }
    },
    {
      "cell_type": "code",
      "source": [
        "user_activity = {\n",
        "'user1': {'posts': 45, 'likes': 230, 'comments': 12},\n",
        "'user2': {'posts': 23, 'likes': 189, 'comments': 34}\n",
        "}\n",
        "\n",
        "# Для пользователя с 45 постами, 230 лайками и 12 комментариями:\n",
        "# engagement_score = (230 + 12×2) ÷ 45 = 254 ÷ 45 = 5.64"
      ],
      "metadata": {
        "id": "SG0aHHZMwQ9M"
      },
      "execution_count": null,
      "outputs": []
    },
    {
      "cell_type": "code",
      "source": [
        "def calculate_engagement_scores(user_activity):\n",
        "  result = []\n",
        "  for i in user_activity.values():\n",
        "    formula = round((i['likes']+i['comments']*2)/i['posts'], 2)\n",
        "    result.append(formula)\n",
        "  return result\n",
        "\n",
        "\n",
        "print(calculate_engagement_scores(user_activity))"
      ],
      "metadata": {
        "id": "Ud9QRtf9wQ08",
        "colab": {
          "base_uri": "https://localhost:8080/"
        },
        "outputId": "2211dab1-bd1c-42fd-99ff-f648a753de1d"
      },
      "execution_count": null,
      "outputs": [
        {
          "output_type": "stream",
          "name": "stdout",
          "text": [
            "[5.64, 11.17]\n"
          ]
        }
      ]
    },
    {
      "cell_type": "code",
      "source": [
        "def calculate_engagement_scores(user_activity):\n",
        "  result = []\n",
        "  for i in user_activity.values():\n",
        "    formula = round((i['likes']+i['comments']*2)/i['posts'], 2)\n",
        "    print(i)\n",
        "    print(i['likes'])\n",
        "\n",
        "\n",
        "print(calculate_engagement_scores(user_activity))"
      ],
      "metadata": {
        "id": "X4SFPaHvI-95",
        "outputId": "925b54d8-04b3-4a13-a1be-43dc79255580",
        "colab": {
          "base_uri": "https://localhost:8080/"
        }
      },
      "execution_count": null,
      "outputs": [
        {
          "output_type": "stream",
          "name": "stdout",
          "text": [
            "{'posts': 45, 'likes': 230, 'comments': 12}\n",
            "230\n",
            "{'posts': 23, 'likes': 189, 'comments': 34}\n",
            "189\n",
            "None\n"
          ]
        }
      ]
    },
    {
      "cell_type": "markdown",
      "source": [
        "# Задача 15: Система анализа успеваемости студентов"
      ],
      "metadata": {
        "id": "-ooMC0FLfi2V"
      }
    },
    {
      "cell_type": "markdown",
      "source": [
        "Что получает на вход: словарь, где ключ - имя студента, а значение - список его оценок\n",
        "\n",
        "Что должна вернуть: словарь со статистиками для каждого студента, содержащий:\n",
        "* 'average_grade': средний балл студента\n",
        "* 'best_grade': лучшая оценка студента\n",
        "* 'high_grades_count': количество оценок выше 80 баллов\n",
        "* 'grade_trend': 'improving' если последние 3 оценки выше среднего балла, иначе 'stable'\n",
        "\n",
        "Особые требования:\n",
        "*  Округлять средний балл до 2 знаков\n",
        "*  брабатывать случаи, когда у студента нет оценок или меньше 3 оценок\n",
        "*  Использовать try-except для обработки ошибок"
      ],
      "metadata": {
        "id": "vLdnfEhR0X_m"
      }
    },
    {
      "cell_type": "code",
      "source": [
        "grades = {'Алихан': [75, 80, 85, 90, 88, 92]}\n",
        "# Для Алихана: средний = 85.0, лучший = 92, высоких оценок = 4\n",
        "# Последние 3 оценки (88, 92, 90) выше среднего (85.0), значит тренд 'improving'"
      ],
      "metadata": {
        "id": "QYFEbqYF0XDL"
      },
      "execution_count": null,
      "outputs": []
    },
    {
      "cell_type": "code",
      "source": [
        "def process_grades(student_grades):\n",
        "  try:\n",
        "    count = 0\n",
        "    key_lists = student_grades['Алихан']\n",
        "    average_grade = round(sum(key_lists)/len(key_lists), 2)\n",
        "    best_grade = max(key_lists)\n",
        "    for value in key_lists:\n",
        "      if value > 80:\n",
        "        count += 1\n",
        "    for valuenew in key_lists[-3:]:\n",
        "      if sum(key_lists[-3:])/len(key_lists[-3:]) > average_grade:\n",
        "        print(f\"The 3 grades {key_lists[-3:]} more than average so trend 'Improving'\")\n",
        "        break\n",
        "      else:\n",
        "        print(f\"The 3 grades {key_lists[-3:]} less than average so trend 'Stable'\")\n",
        "        break\n",
        "\n",
        "    return {\n",
        "          'Для': next(iter(student_grades.keys())) +'а', 'best': best_grade, 'average_grade': average_grade, 'high_grades': count\n",
        "\n",
        "    }\n",
        "  except ValueError:\n",
        "    if student_grades['Алихан'] == []:\n",
        "      print('Invalid list: Check the grades')\n",
        "\n",
        "\n",
        "print(process_grades(grades))"
      ],
      "metadata": {
        "id": "sSECYolT0YeE"
      },
      "execution_count": null,
      "outputs": []
    },
    {
      "cell_type": "code",
      "source": [
        "def process_grades(student_grades):\n",
        "  key_lists = student_grades['Алихан']\n",
        "  average_grade = round(sum(key_lists)/len(key_lists), 2)\n",
        "  for valuenew in key_lists[-3:]:\n",
        "    print(sum(key_lists[-3:])/len(key_lists[-3:]))\n",
        "\n",
        "grades = {'Алихан': [75, 80, 85, 90, 88, 92, 10, 20]}\n",
        "print(process_grades(grades))"
      ],
      "metadata": {
        "id": "CFOQYw5tXFq3"
      },
      "execution_count": null,
      "outputs": []
    },
    {
      "cell_type": "code",
      "source": [
        "def process_grades(student_grades):\n",
        "  key = student_grades['Алихан']\n",
        "  print(key)\n",
        "  print(next(iter(student_grades.keys())))\n",
        "\n",
        "\n",
        "\n",
        "grades = {'Алихан': [75, 80, 85, 90, 88 , 92]}\n",
        "print(process_grades(grades))"
      ],
      "metadata": {
        "id": "BM0pQ5YpNuEN"
      },
      "execution_count": null,
      "outputs": []
    },
    {
      "cell_type": "markdown",
      "source": [
        "# Задача 16: Анализ трендов продаж для бизнеса"
      ],
      "metadata": {
        "id": "ww21reJ5fjGv"
      }
    },
    {
      "cell_type": "markdown",
      "source": [
        "Что получает на вход: список чисел - ежедневные продажи за определенный период\n",
        "\n",
        "Что должна вернуть: словарь с ключами 'trend' (тенденция) и 'change_percent' (процент изменения)\n",
        "\n",
        "Алгоритм анализа:\n",
        "\n",
        "* Разделить период продаж пополам\n",
        "* Рассчитать среднее значение для первой половины и второй половины\n",
        "* Сравнить эти средние значения\n",
        "\n",
        "Правила определения тренда:\n",
        "* Если вторая половина больше первой на >10% → 'растущий'\n",
        "* Если вторая половина меньше первой на >10% → 'падающий'\n",
        "* Если разница ≤10% → 'стабильный'\n",
        "\n",
        "Формула изменения: |среднее2 - среднее1| ÷ среднее1 × 100%"
      ],
      "metadata": {
        "id": "GdeSqWcXaX-J"
      }
    },
    {
      "cell_type": "code",
      "source": [
        "sales = [120, 130, 160, 180] # Продажи за 4 дня\n",
        "# {'trend': 'растущий', 'change_percent': 30.77}\n",
        "# Первая половина: (120+130)/2 = 125, вторая: (160+180)/2 = 170\n",
        "# Изменение: (170-125)/125 × 100% = 36% > 10%, значит тренд растущий"
      ],
      "metadata": {
        "id": "BXGIrfoJaXXj"
      },
      "execution_count": null,
      "outputs": []
    },
    {
      "cell_type": "code",
      "source": [
        "def analyze_sales_trends(daily_sales):\n",
        "  mid = len(sales)//2\n",
        "  average1 = round(sum(sales[:mid])/len(sales[:mid]))\n",
        "  average2 = round(sum(sales[mid:])/len(sales[mid:]))\n",
        "  change_rate = round(((average2-average1)/average1)*100)\n",
        "  if change_rate > 10:\n",
        "    return f\"растущий\"\n",
        "  if change_rate < 10:\n",
        "    return f\"падающий\"\n",
        "  if change_rate <= 10:\n",
        "    return f\"стабильный\"\n",
        "\n",
        "\n",
        "print(analyze_sales_trends(sales))"
      ],
      "metadata": {
        "colab": {
          "base_uri": "https://localhost:8080/"
        },
        "id": "BzP_ETfKaXTK",
        "outputId": "b8437da1-d73a-49ed-9640-77ed3d605658"
      },
      "execution_count": null,
      "outputs": [
        {
          "output_type": "stream",
          "name": "stdout",
          "text": [
            "растущий\n"
          ]
        }
      ]
    },
    {
      "cell_type": "markdown",
      "source": [
        "# Задача 17: Медицинская система мониторинга пациентов"
      ],
      "metadata": {
        "id": "1Ftc4hoSfjmW"
      }
    },
    {
      "cell_type": "markdown",
      "source": [
        "Что получает на вход: словарь с показателями пациента:\n",
        "* 'temperature': температура тела в градусах Цельсия\n",
        "* 'pressure_systolic': верхнее артериальное давление\n",
        "* 'heart_rate': частота сердечных сокращений (пульс)\n",
        "\n",
        "Что должна вернуть: список строк с предупреждениями о нарушениях\n",
        "\n",
        "Нормальные диапазоны показателей:\n",
        "* Температура: 36.0-38.0°C\n",
        "* Систолическое давление: 90-140 мм рт.ст.\n",
        "* Пульс: 60-100 ударов в минуту\n",
        "\n",
        "Правила формирования предупреждений:\n",
        "* Если показатель в норме - не добавлять предупреждение\n",
        "* Если показатель вне нормы - добавить строку с указанием значения и нормального диапазона\n",
        "* Если все показатели в норме - вернуть список с одной строкой \"Все показатели в норме\""
      ],
      "metadata": {
        "id": "yS4FAb2xx_oh"
      }
    },
    {
      "cell_type": "code",
      "source": [
        "data = {'temperature': 39.2, 'pressure_systolic': 85, 'heart_rate': 70}\n",
        "# [\n",
        "# 'Температура 39.2°C выше нормы (36.0-38.0)',\n",
        "# 'Давление 85 ниже нормы (90-140)'\n",
        "# ]\n",
        "# Пульс 70 в норме, поэтому предупреждения нет"
      ],
      "metadata": {
        "id": "q6v-EjEh6iOB"
      },
      "execution_count": null,
      "outputs": []
    },
    {
      "cell_type": "code",
      "source": [
        "def check_vitals(patient_data):\n",
        "  result = []\n",
        "  if 38 >= patient_data['temperature'] >= 36:\n",
        "    result.append((f\"Температура {patient_data['temperature']} в норме\"))\n",
        "  elif patient_data['temperature'] > 38:\n",
        "    result.append((f\"Температура {patient_data['temperature']} выше нормы (36.0-38.0)\"))\n",
        "  elif patient_data['temperature'] < 36:\n",
        "    result.append((f\"Температура {patient_data['temperature']} ниже нормы (36.0-38.0)\"))\n",
        "\n",
        "  if 140 >= patient_data['pressure_systolic'] >= 90:\n",
        "    result.append((f\"Давление {patient_data['pressure_systolic']} в норме\"))\n",
        "  elif patient_data['pressure_systolic'] < 90:\n",
        "    result.append((f\"Давление {patient_data['pressure_systolic']} ниже нормы (90-140)\"))\n",
        "  elif patient_data['pressure_systolic'] > 140:\n",
        "    result.append((f\"Давление {patient_data['pressure_systolic']} выше нормы (90-140)\"))\n",
        "\n",
        "  if 100 >= patient_data['heart_rate'] >= 60:\n",
        "    result.append((f\"Пульс {patient_data['heart_rate']} в норме\"))\n",
        "  elif patient_data['heart_rate'] < 60:\n",
        "    result.append((f\"Пульс {patient_data['heart_rate']} ниже нормы (60-100)\"))\n",
        "  elif patient_data['pressure_systolic'] > 100:\n",
        "    result.append((f\"Пульс {patient_data['heart_rate']} выше нормы (60-100)\"))\n",
        "\n",
        "  if all(\"в норме\" in i for i in result):\n",
        "        return [\"Все показатели в норме\"]\n",
        "\n",
        "  return result\n",
        "\n",
        "\n",
        "print(check_vitals(data))"
      ],
      "metadata": {
        "colab": {
          "base_uri": "https://localhost:8080/"
        },
        "id": "_bBg1lb17OGB",
        "outputId": "0094e5de-75be-47a6-c0e5-8ffe055b39a4"
      },
      "execution_count": null,
      "outputs": [
        {
          "output_type": "stream",
          "name": "stdout",
          "text": [
            "['Температура 39.2 выше нормы (36.0-38.0)', 'Давление 85 ниже нормы (90-140)', 'Пульс 70 в норме']\n"
          ]
        }
      ]
    },
    {
      "cell_type": "code",
      "source": [
        "def check_vitals(patient_data):\n",
        "  result = []\n",
        "  if 36 <= patient_data['temperature'] <= 38:\n",
        "    result.append(('Температура', patient_data['temperature'], 'в норме'))\n",
        "  if patient_data['temperature'] > 38:\n",
        "    result.append(('Температура', patient_data['temperature'], 'выше нормы (36.0-38.0)'))\n",
        "  elif patient_data['temperature'] < 36:\n",
        "    result.append(('Температура', patient_data['temperature'], 'ниже нормы (36.0-38.0)'))\n",
        "\n",
        "  return result\n",
        "\n",
        "data = {'temperature': 39.2, 'pressure_systolic': 85, 'heart_rate': 70}\n",
        "print(check_vitals(data))"
      ],
      "metadata": {
        "colab": {
          "base_uri": "https://localhost:8080/"
        },
        "id": "qngz3bfu_E94",
        "outputId": "5a4739f5-1e40-4c0a-c2e0-307e17611649"
      },
      "execution_count": null,
      "outputs": [
        {
          "output_type": "stream",
          "name": "stdout",
          "text": [
            "[('Температура', 39.2, 'выше нормы (36.0-38.0)')]\n"
          ]
        }
      ]
    },
    {
      "cell_type": "markdown",
      "source": [
        "# Задача 18: Оптимизация расходов на топливо в логистике"
      ],
      "metadata": {
        "id": "0DMwRo5LfkH4"
      }
    },
    {
      "cell_type": "markdown",
      "source": [
        "# Задача 19: Анализ урожайности в сельском хозяйстве"
      ],
      "metadata": {
        "id": "0iL_oLP9fkhV"
      }
    },
    {
      "cell_type": "markdown",
      "source": [
        "# Задача 20: Система управления банковскими счетами"
      ],
      "metadata": {
        "id": "WrM_qknifzr_"
      }
    }
  ]
}