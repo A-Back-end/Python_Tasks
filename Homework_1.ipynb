{
  "nbformat": 4,
  "nbformat_minor": 0,
  "metadata": {
    "colab": {
      "provenance": [],
      "toc_visible": true,
      "include_colab_link": true
    },
    "kernelspec": {
      "name": "python3",
      "display_name": "Python 3"
    },
    "language_info": {
      "name": "python"
    }
  },
  "cells": [
    {
      "cell_type": "markdown",
      "metadata": {
        "id": "view-in-github",
        "colab_type": "text"
      },
      "source": [
        "<a href=\"https://colab.research.google.com/github/A-Back-end/Python_Tasks/blob/main/Homework_1.ipynb\" target=\"_parent\"><img src=\"https://colab.research.google.com/assets/colab-badge.svg\" alt=\"Open In Colab\"/></a>"
      ]
    },
    {
      "cell_type": "markdown",
      "source": [
        "# Задача 1: Система хранения продуктов в службе доставки еды"
      ],
      "metadata": {
        "id": "wzShwH21c6VF"
      }
    },
    {
      "cell_type": "markdown",
      "source": [
        "#Задача 2: Мониторинг IT-серверов компании"
      ],
      "metadata": {
        "id": "r93Xf105c76v"
      }
    },
    {
      "cell_type": "markdown",
      "source": [
        "# Задача 3: Анализ кредитоспособности клиентов банка"
      ],
      "metadata": {
        "id": "XKK5oeK_c8ZC"
      }
    },
    {
      "cell_type": "markdown",
      "source": [
        "# Задача 4: Учет брака на производстве"
      ],
      "metadata": {
        "id": "xrYzxIqkc8rK"
      }
    },
    {
      "cell_type": "markdown",
      "source": [
        "# Задача 5: Оценка эффективности рекламы"
      ],
      "metadata": {
        "id": "genhKDFNc898"
      }
    },
    {
      "cell_type": "markdown",
      "source": [
        "# Задача 6: Контроль остатков товаров на складе"
      ],
      "metadata": {
        "id": "PKObpKCTc9ON"
      }
    },
    {
      "cell_type": "markdown",
      "source": [
        "# Задача 7: Проверка номеров банковских карт"
      ],
      "metadata": {
        "id": "Xzw6jhqkc9dU"
      }
    },
    {
      "cell_type": "markdown",
      "source": [
        "# Задача 8: Анализ корпоративной почты в HR отделе"
      ],
      "metadata": {
        "id": "sP2OyKVBc9ui"
      }
    },
    {
      "cell_type": "markdown",
      "source": [
        "# Задача 9: Мониторинг службы доставки"
      ],
      "metadata": {
        "id": "9oziKr9gc981"
      }
    },
    {
      "cell_type": "markdown",
      "source": [
        "# Задача 10: Калькулятор бизнес-прибыли"
      ],
      "metadata": {
        "id": "8uobDYyrc-K-"
      }
    },
    {
      "cell_type": "markdown",
      "source": [
        "# Задача 11: Система скидок в страховой компании"
      ],
      "metadata": {
        "id": "T9cuMG-Lc-ZN"
      }
    },
    {
      "cell_type": "markdown",
      "source": [
        "# Задача 12: Анализ телефонных переговоров"
      ],
      "metadata": {
        "id": "q2JY8te3c-nz"
      }
    },
    {
      "cell_type": "markdown",
      "source": [
        "# Задача 13: Расчет доходности банковских вкладов"
      ],
      "metadata": {
        "id": "ff1m7CIKc--U"
      }
    },
    {
      "cell_type": "markdown",
      "source": [
        "# Новый раздел"
      ],
      "metadata": {
        "id": "_tFbOYAJdpS7"
      }
    }
  ]
}